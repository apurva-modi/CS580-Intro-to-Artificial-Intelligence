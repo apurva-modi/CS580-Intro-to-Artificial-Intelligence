{
  "nbformat": 4,
  "nbformat_minor": 0,
  "metadata": {
    "kernelspec": {
      "display_name": "Python 3",
      "language": "python",
      "name": "python3"
    },
    "language_info": {
      "codemirror_mode": {
        "name": "ipython",
        "version": 3
      },
      "file_extension": ".py",
      "mimetype": "text/x-python",
      "name": "python",
      "nbconvert_exporter": "python",
      "pygments_lexer": "ipython3",
      "version": "3.6.3"
    },
    "colab": {
      "name": "HW#2.ipynb",
      "provenance": [],
      "collapsed_sections": [],
      "toc_visible": true
    }
  },
  "cells": [
    {
      "cell_type": "markdown",
      "metadata": {
        "id": "rgziVhl-PQEM",
        "colab_type": "text"
      },
      "source": [
        "<center><h1> 1. Optimization of a function with real parameters.<br>\n",
        "Consider the Eggholder’s function\n",
        "</h1></center>\n",
        "\n"
      ]
    },
    {
      "cell_type": "code",
      "metadata": {
        "id": "Jj3NR6rX-8J5",
        "colab_type": "code",
        "colab": {}
      },
      "source": [
        "import math\n",
        "import random\n",
        "import time\n",
        "import numpy as np\n",
        "import seaborn as sns\n",
        "import matplotlib.pyplot as plt\n"
      ],
      "execution_count": 0,
      "outputs": []
    },
    {
      "cell_type": "markdown",
      "metadata": {
        "id": "fg2T-j-BAqEu",
        "colab_type": "text"
      },
      "source": [
        "## Task 1. (Hill Climbing Search) (20 pts)\n",
        "> Implement a Hill Climbing (descending) algorithm to find the global minimum of the Eggholder’s function. Adopt a maximum step size of 1.0. A new position (x’, y’) can be generated from old position (x, y) by x’ = (rand() – 0.5)*0.1 + x and y’ = (rand() – 0.5)*1.0 + y, where rand() is a uniform random number generation function generating random numbers in [0, 1).\n",
        "\n",
        "> Randomly generate an initial position. Use the Hill Climbing algorithm to optimize the Eggholder’s function starting from the initial position. Terminate the optimization process when a better position yielding lower objective function value is not found in the last 100 steps. Repeat this process for 100 runs. Display the distribution of the minima you found in each run on a figure.\n"
      ]
    },
    {
      "cell_type": "code",
      "metadata": {
        "id": "qCmzugLD-8J-",
        "colab_type": "code",
        "colab": {
          "base_uri": "https://localhost:8080/",
          "height": 441
        },
        "outputId": "71636b46-2859-470d-94d7-b0fc0f4ed98a"
      },
      "source": [
        "%%time\n",
        "\n",
        "def eggholder(x,y):\n",
        "    \"\"\"\n",
        "    input x, y\n",
        "    return egghold funtion\n",
        "    \"\"\"\n",
        "    return (y+47)*math.sin(math.sqrt(abs(x/2+(y+47))))- x*math.sin(math.sqrt(abs(x-(y+47))))\n",
        "\n",
        "def random_xy():\n",
        "    \"\"\"\n",
        "    return two random float number \n",
        "    in range (-10000, 10000)\n",
        "    for inital points.\n",
        "    \"\"\"\n",
        "    x = np.random.randint(10)\n",
        "    y = np.random.randint(10)\n",
        "    return x, y\n",
        "\n",
        "def climb(x=0,y=0):\n",
        "  cost = eggholder(x,y)\n",
        "  dx = (random.uniform(0, 1) - 0.5)*0.1 + x\n",
        "  dy = (random.uniform(0, 1) - 0.5)*0.1 + y\n",
        "  grads={\n",
        "      \"dx\":dx,\n",
        "      \"dy\":dy\n",
        "  }\n",
        "  return cost,grads\n",
        "\n",
        "def hill_climb_search(x,y):\n",
        "  ''' Implementing Hill climbing Algorithm '''\n",
        "  minima=[]\n",
        "  globalMinima=1000\n",
        "  for i in range(100):\n",
        "    cost,grads=climb(x,y)\n",
        "    minima.append(cost)\n",
        "    if cost < globalMinima:\n",
        "      if True:\n",
        "        print(\"Cost for  (%f, %f) after -> iteration %i = %f\" %(x, y, i, cost))\n",
        "        globalMinima,minimax,minimay =cost,x,y\n",
        "        x,y = grads[\"dx\"],grads[\"dy\"]\n",
        "        globalPos,pos={\"global Minima\" : globalMinima,\"global X\": minimax,\"global Y\":minimay},{\"x\":x,\"y\":y}\n",
        "  return minima,pos,globalPos\n",
        "\n",
        "x,y = random_xy()\n",
        "minima,pos,global_Pos=hill_climb_search(x,y)\n",
        "print(minima)\n",
        "print('X: ',x,'Y : ',y)\n",
        "print('updated X,Y positions are : ',pos[\"x\"],pos[\"y\"])\n",
        "print('Global minima : %f, for values (%f,%f)'%(global_Pos[\"global Minima\"],global_Pos[\"global X\"],global_Pos[\"global Y\"]))\n",
        "# Ploting the graph\n",
        "X = [i for i in range(100)]\n",
        "sns.set(color_codes=True)\n",
        "plt.plot(minima)\n",
        "plt.show()"
      ],
      "execution_count": 2,
      "outputs": [
        {
          "output_type": "stream",
          "text": [
            "Cost for  (6.000000, 0.000000) after -> iteration 0 = 32.598571\n",
            "Cost for  (6.022103, -0.031669) after -> iteration 1 = 32.550258\n",
            "Cost for  (6.054071, -0.058317) after -> iteration 2 = 32.530244\n",
            "[32.59857125742533, 32.550258346175, 32.5302444505238, 32.59051536203859, 32.59051536203859, 32.59051536203859, 32.59051536203859, 32.59051536203859, 32.59051536203859, 32.59051536203859, 32.59051536203859, 32.59051536203859, 32.59051536203859, 32.59051536203859, 32.59051536203859, 32.59051536203859, 32.59051536203859, 32.59051536203859, 32.59051536203859, 32.59051536203859, 32.59051536203859, 32.59051536203859, 32.59051536203859, 32.59051536203859, 32.59051536203859, 32.59051536203859, 32.59051536203859, 32.59051536203859, 32.59051536203859, 32.59051536203859, 32.59051536203859, 32.59051536203859, 32.59051536203859, 32.59051536203859, 32.59051536203859, 32.59051536203859, 32.59051536203859, 32.59051536203859, 32.59051536203859, 32.59051536203859, 32.59051536203859, 32.59051536203859, 32.59051536203859, 32.59051536203859, 32.59051536203859, 32.59051536203859, 32.59051536203859, 32.59051536203859, 32.59051536203859, 32.59051536203859, 32.59051536203859, 32.59051536203859, 32.59051536203859, 32.59051536203859, 32.59051536203859, 32.59051536203859, 32.59051536203859, 32.59051536203859, 32.59051536203859, 32.59051536203859, 32.59051536203859, 32.59051536203859, 32.59051536203859, 32.59051536203859, 32.59051536203859, 32.59051536203859, 32.59051536203859, 32.59051536203859, 32.59051536203859, 32.59051536203859, 32.59051536203859, 32.59051536203859, 32.59051536203859, 32.59051536203859, 32.59051536203859, 32.59051536203859, 32.59051536203859, 32.59051536203859, 32.59051536203859, 32.59051536203859, 32.59051536203859, 32.59051536203859, 32.59051536203859, 32.59051536203859, 32.59051536203859, 32.59051536203859, 32.59051536203859, 32.59051536203859, 32.59051536203859, 32.59051536203859, 32.59051536203859, 32.59051536203859, 32.59051536203859, 32.59051536203859, 32.59051536203859, 32.59051536203859, 32.59051536203859, 32.59051536203859, 32.59051536203859, 32.59051536203859]\n",
            "X:  6 Y :  0\n",
            "updated X,Y positions are :  6.0836778447030095 -0.05256790179254776\n",
            "Global minima : 32.530244, for values (6.054071,-0.058317)\n"
          ],
          "name": "stdout"
        },
        {
          "output_type": "display_data",
          "data": {
            "image/png": "[encoded data removed]",
            "text/plain": [
              "<Figure size 432x288 with 1 Axes>"
            ]
          },
          "metadata": {
            "tags": []
          }
        },
        {
          "output_type": "stream",
          "text": [
            "CPU times: user 330 ms, sys: 12.5 ms, total: 343 ms\n",
            "Wall time: 341 ms\n"
          ],
          "name": "stdout"
        }
      ]
    },
    {
      "cell_type": "markdown",
      "metadata": {
        "id": "dtQ4_4KRAzv-",
        "colab_type": "text"
      },
      "source": [
        "## Task 2. (Differential Evolution)\t(20 pts)\n",
        "> Implement a Differential Evolution algorithm to find the global minimum of the Eggholder’s function. Terminate the optimization process when a better position yielding lower objective function value is not found in the last 100 steps. Repeat this process for 100 runs. Display the distribution of the minima you found in each run on a figure.\n"
      ]
    },
    {
      "cell_type": "code",
      "metadata": {
        "id": "gyDydUshjpYw",
        "colab_type": "code",
        "colab": {
          "base_uri": "https://localhost:8080/",
          "height": 356
        },
        "outputId": "76bffa69-9413-4232-d97b-30bf7bfd0a32"
      },
      "source": [
        "%%time\n",
        "def definePopulation(p,bounds):\n",
        "  ''' Define the population. '''\n",
        "  pop = []\n",
        "  for i in range(0,p):\n",
        "        single = []\n",
        "        for j in range(len(bounds)):\n",
        "            single.append(random.uniform(bounds[j][0],bounds[j][1]))\n",
        "        pop.append(single)\n",
        "  return pop \n",
        "\n",
        "def eggholder(x):\n",
        "  return (-(x[1] + 47) * np.sin(np.sqrt(abs(x[0]/2 + (x[1]  + 47))))-x[0] * np.sin(np.sqrt(abs(x[0] - (x[1]  + 47)))))\n",
        "\n",
        "def recomb(posVector, MutantVector, cr):\n",
        "  ''' recombination occurs when crossover is less than or equal to recombination rate \n",
        "     else recombination don't occur. '''\n",
        "  rcVector = []\n",
        "  crossover = random.random()\n",
        "  for i in range(0,len(posVector)):\n",
        "    if crossover <= cr:\n",
        "      rcVector.append(MutantVector[i])\n",
        "    else:\n",
        "      rcVector.append(posVector[i])\n",
        "  return rcVector\n",
        "\n",
        "def differential_evolution():\n",
        "    ''' use differential evolution to find global min  '''\n",
        "    costPerGeneration={}\n",
        "    bounds =[(-1,1),(-1,1)]\n",
        "    p=10\n",
        "    f=0.8\n",
        "    nc=1000\n",
        "    #cr=random.random()\n",
        "    cr=0.7\n",
        "    #pool=[]\n",
        "    pool = definePopulation(p,bounds)\n",
        "    #for a in range(100):\n",
        "        #pool.append(random_xy())\n",
        "    #print('begin:',pool)\n",
        "    for k in range(100):\n",
        "        pool_copy=pool\n",
        "        for i in range(p):\n",
        "            candidates=list(range(0,p))\n",
        "            candidates.remove(i)\n",
        "            #try:\n",
        "            randomIndex = random.sample(candidates, 3)\n",
        "            #except:\n",
        "            # print(\"Error\")\n",
        "            # xi,yi=pool_copy[i]\n",
        "            # r0,r1,r2=random.sample(range(20), 3)\n",
        "            # r0,r1,r2 not equal to the curent loop index i\n",
        "            #  r0==i or r1==i or r2==i:\n",
        "            #  r0,r1,r2=random.sample(range(20), 3)\n",
        "            xr0=pool_copy[randomIndex[0]]\n",
        "            xr1=pool_copy[randomIndex[1]]\n",
        "            xr2=pool_copy[randomIndex[2]]\n",
        "            #v1=[]\n",
        "            v1 = np.add(xr0,(f*np.subtract(xr1,xr2)))\n",
        "            # v2 = np.add(yr0,(f*np.subtract(yr1,yr2)))\n",
        "            # while True:\n",
        "            #     v1=xr0+f*(xr1-xr2)\n",
        "            #     v2=yr0+f*(yr1-yr2)\n",
        "            posVector=pool_copy[i]\n",
        "            recombVector=recomb(posVector,v1,cr)\n",
        "            fitnessPos = eggholder(posVector)\n",
        "            fitnessRecomb =eggholder(recombVector)\n",
        "            if fitnessRecomb < fitnessPos:\n",
        "              pool[i] = recombVector\n",
        "              costPerGeneration[k] = fitnessRecomb\n",
        "            else:\n",
        "              costPerGeneration[k] = fitnessPos\n",
        "    # Obtain optimal score of the vectors\n",
        "    costsOnly = list(costPerGeneration.values())\n",
        "    #minima = min(costsOnly)\n",
        "    print(\"Minimum Cost after 100 iterations : \",costsOnly)\n",
        "    #return minCost,generationCosts\n",
        "    return costsOnly,costPerGeneration\n",
        "\n",
        "\n",
        "\n",
        "minima , cost = differential_evolution()\n",
        "\n",
        "print(\"The Global minima is : \",min(minima))\n",
        "# Ploting the Graph\n",
        "sns.set(color_codes=True)   \n",
        "plt.plot(minima)\n",
        "plt.show()"
      ],
      "execution_count": 3,
      "outputs": [
        {
          "output_type": "stream",
          "text": [
            "Minimum Cost after 100 iterations :  [-25.93935075084773, -25.93935075084773, -25.93935075084773, -25.93935075084773, -25.93935075084773, -25.93935075084773, -39.638143109932855, -39.638143109932855, -39.638143109932855, -47.775768599806206, -47.775768599806206, -47.775768599806206, -55.654326677841595, -55.654326677841595, -59.29699470022798, -59.29699470022798, -62.53906202760423, -62.53906202760423, -62.53906202760423, -64.71609072776596, -64.71609072776596, -64.71609072776596, -64.71609072776596, -64.71609072776596, -67.19160159113653, -67.19160159113653, -67.19160159113653, -67.19160159113653, -68.02542363579346, -68.02542363579346, -68.02542363579346, -68.91596178959283, -68.91596178959283, -68.91596178959283, -68.91596178959283, -68.91596178959283, -68.91596178959283, -69.09215817963768, -69.60913822697019, -69.60913822697019, -71.40074366047973, -71.40074366047973, -71.79608079297078, -71.79608079297078, -71.79608079297078, -71.99791241567898, -71.99791241567898, -71.99791241567898, -71.99791241567898, -71.99791241567898, -72.7561813542697, -72.7561813542697, -73.17704546568966, -73.17704546568966, -73.17704546568966, -75.09107894572425, -75.09107894572425, -75.09107894572425, -76.90932762252875, -76.90932762252875, -76.90932762252875, -76.90932762252875, -78.52769282718089, -79.48034867133946, -79.48034867133946, -81.88519752433406, -81.88519752433406, -82.2004346980431, -82.2004346980431, -82.2004346980431, -82.2004346980431, -82.2004346980431, -82.75103206018801, -84.3145367293671, -84.3145367293671, -84.3145367293671, -84.48210810552038, -84.48210810552038, -85.2446225046992, -85.2446225046992, -85.2446225046992, -85.3603584981948, -85.52532866493823, -85.52532866493823, -85.52532866493823, -85.53445957536923, -85.53445957536923, -85.53445957536923, -85.53445957536923, -85.53445957536923, -85.53445957536923, -85.53445957536923, -85.53445957536923, -86.1840705892691, -86.1840705892691, -87.41850328095589, -87.41850328095589, -87.41850328095589, -87.41850328095589, -87.41850328095589]\n",
            "The Global minima is :  -87.41850328095589\n"
          ],
          "name": "stdout"
        },
        {
          "output_type": "display_data",
          "data": {
            "image/png": "[encoded data removed]",
            "text/plain": [
              "<Figure size 432x288 with 1 Axes>"
            ]
          },
          "metadata": {
            "tags": []
          }
        },
        {
          "output_type": "stream",
          "text": [
            "CPU times: user 360 ms, sys: 5.15 ms, total: 365 ms\n",
            "Wall time: 365 ms\n"
          ],
          "name": "stdout"
        }
      ]
    },
    {
      "cell_type": "markdown",
      "metadata": {
        "id": "Oe3_5WP-P3Iy",
        "colab_type": "text"
      },
      "source": [
        "## Task 3. (Analysis) (10 pts)\n",
        "> Compare the results and computational time you obtain in the last two tasks. Draw your conclusions.\n",
        "\n",
        "> Implementing hill climbing algorithm to find minimum of egg holder function.\n",
        "  - The algorithm will find a minimum but it will not be a global minima rathe a local minima, will have to increase the number of iterations to find next best minimum\n",
        "\n",
        "> Implementing a differential evolution solution to find the global minimum of the egg holder function.\n",
        "  - It is a effective way to find the global minimum, as it finds minimum value better than hill climbing.\n",
        "\n",
        "> **Time taken** to find the global minima in case of the hill climbing is **more** as compared to the differntial evolution because hill climbing usually get stuck at the local minima."
      ]
    },
    {
      "cell_type": "markdown",
      "metadata": {
        "id": "dN01iSQ9TPqi",
        "colab_type": "text"
      },
      "source": [
        ""
      ]
    },
    {
      "cell_type": "markdown",
      "metadata": {
        "id": "leVCTCgSTQ-a",
        "colab_type": "text"
      },
      "source": [
        "<center><h1>2. N-queens Problem</h1></center>"
      ]
    },
    {
      "cell_type": "code",
      "metadata": {
        "id": "ExrvBbHVloFL",
        "colab_type": "code",
        "colab": {}
      },
      "source": [
        "import numpy as np\n",
        "import random \n",
        "import time"
      ],
      "execution_count": 0,
      "outputs": []
    },
    {
      "cell_type": "code",
      "metadata": {
        "id": "CXFZO6X2Tmmj",
        "colab_type": "code",
        "colab": {}
      },
      "source": [
        "def random_place(size):\n",
        "    \"\"\"\n",
        "    randomly placed queens\n",
        "    \"\"\"\n",
        "    board= []\n",
        "    for i in range(size):\n",
        "        board.append(random.randint(0,size-1))\n",
        "\n",
        "    return board"
      ],
      "execution_count": 0,
      "outputs": []
    },
    {
      "cell_type": "markdown",
      "metadata": {
        "id": "FX_vY6WDTfdi",
        "colab_type": "text"
      },
      "source": [
        "## Task 1. (Hill Climbing Search) (25 pts)\n",
        "> Implement a Hill Climbing Search algorithm to find a solution of the N-queens problem from a random given position. Use the number of pairwise attacks as the objective function.  Repeat the program 100 times for N = 8, N = 16, and N = 32 and show how many times you can find the solutions. Plot the initial state and the final state (not necessary the solution) of the first 10 times.\n"
      ]
    },
    {
      "cell_type": "code",
      "metadata": {
        "id": "crnRUfbiTxR6",
        "colab_type": "code",
        "colab": {}
      },
      "source": [
        "def get_h_score(board):\n",
        "    h = 0\n",
        "    for i in range(len(board)):\n",
        "    #Check every column we haven't already checked\n",
        "        for j in range(i + 1,len(board)):\n",
        "          #Queens are in the same row\n",
        "          if board[i] == board[j]:\n",
        "            h += 1\n",
        "      #Get the difference between the current column\n",
        "      #and the check column\n",
        "          offset = j - i\n",
        "      #To be a diagonal, the check column value has to be \n",
        "      #equal to the current column value +/- the offset\n",
        "          if board[i] == board[j] - offset or board[i] == board[j] + offset:\n",
        "            h += 1\n",
        "     \n",
        "    return h\n",
        "\n",
        "def hill_climbing_search(board):\n",
        "    global counter\n",
        "    moves = {}\n",
        "    for col in range(len(board)):\n",
        "        best_move = board[col]\n",
        "        for row in range(len(board)):\n",
        "            if board[col] == row:\n",
        "            #We don't need to evaluate the current\n",
        "            #position, we already know the h-value\n",
        "                continue\n",
        "\n",
        "            board_copy = list(board)\n",
        "          #Move the queen to the new row\n",
        "            board_copy[col] = row\n",
        "            moves[(col,row)] = get_h_score(board_copy)\n",
        "            if get_h_score(board_copy)==0:\n",
        "                counter=counter+1\n",
        "                #print('find solution: ')\n",
        "                return board_copy\n",
        "        best_moves = []\n",
        "        h_to_beat = get_h_score(board)\n",
        "        for k,v in moves.items():\n",
        "            if v < h_to_beat:\n",
        "                h_to_beat = v\n",
        "\n",
        "        for k,v in moves.items():\n",
        "            if v == h_to_beat:\n",
        "                best_moves.append(k)\n",
        "\n",
        "        #Pick a random best move\n",
        "        if len(best_moves) > 0:\n",
        "            pick = random.randint(0,len(best_moves) - 1)\n",
        "            col = best_moves[pick][0]\n",
        "            row = best_moves[pick][1]\n",
        "            board[col] = row\n",
        "    #print('final state: ')\n",
        "    return board"
      ],
      "execution_count": 0,
      "outputs": []
    },
    {
      "cell_type": "markdown",
      "metadata": {
        "id": "Hdxk-MzfT4aT",
        "colab_type": "text"
      },
      "source": [
        "<center><h2>8 Queens</h2><center>"
      ]
    },
    {
      "cell_type": "code",
      "metadata": {
        "id": "b7FA_-BeTx_r",
        "colab_type": "code",
        "colab": {
          "base_uri": "https://localhost:8080/",
          "height": 527
        },
        "outputId": "bd83db72-f1f2-40f8-e105-da665eb23c02"
      },
      "source": [
        "counter=0\n",
        "for i in range(10):\n",
        "    board=random_place(8)\n",
        "    print('initial state')\n",
        "    print(board)\n",
        "    hill_climbing_search(board)\n",
        "    print(board)\n",
        "for i in range(90):\n",
        "    board=random_place(8)\n",
        "    hill_climbing_search(board)    \n",
        "#print(\"we can find solution for \",counter)"
      ],
      "execution_count": 7,
      "outputs": [
        {
          "output_type": "stream",
          "text": [
            "initial state\n",
            "[5, 4, 1, 2, 4, 4, 6, 2]\n",
            "[7, 5, 0, 1, 1, 4, 6, 3]\n",
            "initial state\n",
            "[7, 4, 6, 6, 6, 6, 3, 3]\n",
            "[0, 1, 4, 2, 7, 6, 1, 5]\n",
            "initial state\n",
            "[4, 2, 7, 3, 4, 6, 3, 5]\n",
            "[2, 0, 1, 7, 4, 6, 3, 5]\n",
            "initial state\n",
            "[2, 1, 7, 4, 2, 1, 1, 3]\n",
            "[3, 0, 6, 4, 7, 5, 0, 2]\n",
            "initial state\n",
            "[6, 5, 7, 6, 6, 3, 3, 6]\n",
            "[0, 2, 4, 1, 7, 0, 3, 6]\n",
            "initial state\n",
            "[0, 2, 5, 4, 7, 6, 4, 6]\n",
            "[0, 3, 7, 5, 1, 6, 4, 6]\n",
            "initial state\n",
            "[3, 6, 3, 1, 6, 0, 4, 2]\n",
            "[7, 5, 1, 3, 0, 6, 4, 2]\n",
            "initial state\n",
            "[7, 3, 7, 4, 2, 7, 1, 5]\n",
            "[0, 3, 6, 0, 7, 4, 1, 5]\n",
            "initial state\n",
            "[2, 6, 7, 6, 1, 4, 5, 5]\n",
            "[0, 3, 6, 7, 1, 1, 5, 5]\n",
            "initial state\n",
            "[3, 7, 4, 7, 6, 7, 2, 0]\n",
            "[5, 1, 1, 4, 6, 3, 0, 2]\n"
          ],
          "name": "stdout"
        }
      ]
    },
    {
      "cell_type": "markdown",
      "metadata": {
        "id": "NmmVT50FUE6d",
        "colab_type": "text"
      },
      "source": [
        "<center><h2>16 Queens</h2><center>"
      ]
    },
    {
      "cell_type": "code",
      "metadata": {
        "id": "CDaUHfC6UUIU",
        "colab_type": "code",
        "colab": {
          "base_uri": "https://localhost:8080/",
          "height": 544
        },
        "outputId": "10ddd0cf-7d06-4bda-e560-035386581c6a"
      },
      "source": [
        "counter=0\n",
        "for i in range(10):\n",
        "    board=random_place(16)\n",
        "    print('initial state')\n",
        "    print(board)\n",
        "    hill_climbing_search(board)\n",
        "    print(board)\n",
        "for i in range(90):\n",
        "    board=random_place(16)\n",
        "    hill_climbing_search(board)\n",
        "    \n",
        "print(\"we can find solution for \",counter)"
      ],
      "execution_count": 8,
      "outputs": [
        {
          "output_type": "stream",
          "text": [
            "initial state\n",
            "[11, 3, 7, 6, 12, 2, 9, 10, 6, 2, 4, 11, 11, 10, 11, 6]\n",
            "[13, 3, 8, 15, 12, 14, 1, 10, 0, 2, 4, 9, 12, 9, 11, 6]\n",
            "initial state\n",
            "[14, 3, 12, 3, 3, 5, 2, 1, 14, 3, 11, 9, 3, 5, 10, 7]\n",
            "[13, 8, 12, 0, 15, 0, 6, 10, 14, 2, 11, 9, 3, 5, 2, 9]\n",
            "initial state\n",
            "[10, 5, 2, 2, 5, 3, 3, 6, 11, 0, 5, 12, 12, 8, 3, 13]\n",
            "[14, 9, 4, 15, 1, 15, 10, 6, 11, 0, 2, 5, 12, 8, 3, 13]\n",
            "initial state\n",
            "[14, 10, 12, 9, 9, 7, 6, 3, 8, 6, 3, 15, 14, 4, 7, 2]\n",
            "[1, 10, 12, 1, 9, 13, 0, 5, 11, 6, 10, 11, 14, 15, 7, 2]\n",
            "initial state\n",
            "[7, 12, 10, 3, 1, 8, 5, 9, 7, 14, 2, 1, 11, 5, 4, 12]\n",
            "[14, 8, 15, 3, 0, 3, 1, 9, 7, 10, 14, 2, 11, 7, 4, 12]\n",
            "initial state\n",
            "[0, 7, 15, 13, 5, 6, 8, 6, 6, 11, 2, 2, 0, 1, 15, 13]\n",
            "[4, 9, 7, 3, 14, 12, 9, 0, 5, 11, 6, 10, 2, 1, 15, 13]\n",
            "initial state\n",
            "[14, 14, 13, 4, 15, 5, 9, 12, 0, 13, 14, 7, 11, 9, 4, 1]\n",
            "[6, 3, 10, 10, 15, 5, 9, 2, 0, 12, 14, 8, 11, 7, 4, 1]\n",
            "initial state\n",
            "[11, 4, 2, 12, 6, 0, 8, 7, 12, 4, 0, 9, 5, 2, 12, 2]\n",
            "[1, 15, 10, 3, 14, 14, 13, 4, 13, 15, 0, 11, 8, 5, 12, 2]\n",
            "initial state\n",
            "[1, 9, 6, 12, 7, 9, 2, 5, 6, 0, 9, 13, 1, 5, 14, 6]\n",
            "[15, 11, 8, 4, 7, 12, 10, 2, 6, 3, 9, 13, 1, 5, 14, 5]\n",
            "initial state\n",
            "[6, 13, 4, 4, 2, 11, 13, 3, 2, 6, 5, 2, 15, 3, 3, 7]\n",
            "[9, 0, 10, 8, 4, 15, 13, 11, 6, 12, 5, 2, 14, 14, 3, 1]\n",
            "we can find solution for  1\n"
          ],
          "name": "stdout"
        }
      ]
    },
    {
      "cell_type": "markdown",
      "metadata": {
        "id": "GZu0qWuLUFPM",
        "colab_type": "text"
      },
      "source": [
        "<center><h2>32 Queens</h2><center>"
      ]
    },
    {
      "cell_type": "code",
      "metadata": {
        "id": "aLplu91NUUvc",
        "colab_type": "code",
        "colab": {
          "base_uri": "https://localhost:8080/",
          "height": 544
        },
        "outputId": "e542280c-3655-4ded-97a6-0b65df57b1ce"
      },
      "source": [
        "counter=0\n",
        "for i in range(10):\n",
        "    board=random_place(32)\n",
        "    print('initial state')\n",
        "    print(board)\n",
        "    hill_climbing_search(board)\n",
        "    print(board)\n",
        "for i in range(90):\n",
        "    board=random_place(32)\n",
        "    hill_climbing_search(board)\n",
        "    \n",
        "print(\"we can find solution for \",counter,' times')"
      ],
      "execution_count": 9,
      "outputs": [
        {
          "output_type": "stream",
          "text": [
            "initial state\n",
            "[1, 0, 8, 29, 20, 14, 8, 6, 23, 26, 4, 3, 9, 30, 5, 4, 13, 27, 15, 26, 28, 25, 30, 15, 27, 28, 29, 27, 16, 2, 0, 21]\n",
            "[12, 24, 7, 31, 18, 1, 22, 20, 10, 8, 5, 3, 23, 19, 29, 4, 9, 11, 15, 17, 6, 25, 1, 14, 0, 26, 13, 30, 16, 2, 15, 21]\n",
            "initial state\n",
            "[22, 19, 25, 9, 14, 26, 21, 30, 14, 13, 21, 7, 29, 31, 14, 0, 5, 13, 5, 12, 23, 17, 23, 12, 4, 3, 12, 26, 17, 11, 0, 29]\n",
            "[16, 6, 22, 10, 28, 15, 8, 30, 2, 18, 1, 25, 27, 31, 20, 7, 13, 30, 5, 14, 1, 21, 19, 2, 28, 3, 9, 4, 17, 11, 0, 29]\n",
            "initial state\n",
            "[29, 13, 5, 3, 10, 28, 27, 22, 25, 10, 2, 0, 18, 10, 27, 18, 10, 4, 25, 23, 2, 4, 11, 31, 25, 3, 25, 10, 24, 11, 23, 15]\n",
            "[20, 30, 14, 1, 6, 29, 26, 22, 19, 9, 28, 8, 0, 17, 27, 21, 7, 27, 12, 5, 1, 26, 13, 31, 18, 3, 25, 10, 24, 11, 23, 15]\n",
            "initial state\n",
            "[19, 20, 2, 22, 11, 1, 7, 4, 6, 21, 29, 12, 24, 19, 8, 20, 25, 27, 11, 3, 3, 25, 16, 2, 19, 6, 17, 10, 6, 26, 10, 23]\n",
            "[28, 18, 5, 30, 22, 13, 21, 9, 7, 4, 29, 31, 24, 1, 0, 20, 14, 27, 11, 15, 27, 25, 16, 2, 8, 31, 17, 10, 3, 26, 19, 23]\n",
            "initial state\n",
            "[31, 28, 1, 6, 29, 13, 10, 17, 11, 22, 26, 31, 2, 10, 28, 8, 12, 31, 16, 20, 8, 15, 27, 4, 1, 16, 3, 15, 27, 5, 6, 19]\n",
            "[0, 25, 30, 9, 29, 13, 24, 14, 11, 22, 7, 26, 23, 2, 6, 8, 28, 31, 28, 20, 18, 3, 18, 4, 4, 16, 21, 29, 15, 0, 5, 19]\n",
            "initial state\n",
            "[18, 20, 2, 7, 13, 10, 1, 9, 24, 0, 21, 18, 3, 11, 11, 21, 20, 31, 20, 12, 12, 31, 17, 7, 8, 29, 15, 30, 19, 26, 10, 21]\n",
            "[27, 22, 2, 25, 16, 13, 5, 1, 4, 24, 27, 18, 23, 0, 28, 6, 3, 26, 20, 25, 6, 14, 17, 11, 7, 29, 15, 9, 31, 8, 10, 21]\n",
            "initial state\n",
            "[29, 3, 5, 29, 4, 18, 29, 6, 21, 22, 21, 14, 17, 1, 11, 26, 3, 24, 4, 25, 14, 5, 11, 14, 9, 3, 10, 24, 27, 5, 12, 20]\n",
            "[15, 19, 16, 13, 8, 0, 2, 23, 31, 18, 22, 12, 17, 1, 7, 28, 6, 29, 4, 25, 28, 26, 2, 14, 11, 27, 10, 30, 3, 5, 24, 9]\n",
            "initial state\n",
            "[1, 31, 27, 29, 21, 31, 5, 16, 15, 27, 9, 18, 2, 26, 6, 17, 30, 3, 6, 3, 13, 17, 17, 4, 15, 17, 16, 15, 1, 31, 6, 21]\n",
            "[12, 25, 8, 14, 24, 10, 29, 11, 23, 28, 20, 0, 9, 12, 27, 18, 30, 2, 5, 3, 20, 22, 16, 4, 31, 7, 19, 15, 26, 21, 6, 17]\n",
            "initial state\n",
            "[26, 31, 15, 1, 23, 9, 28, 16, 24, 18, 18, 22, 22, 4, 30, 17, 31, 3, 20, 19, 24, 8, 20, 23, 0, 0, 7, 6, 20, 2, 21, 24]\n",
            "[12, 25, 5, 10, 1, 11, 29, 14, 28, 5, 18, 16, 22, 26, 4, 30, 27, 3, 1, 13, 21, 9, 31, 23, 19, 0, 24, 29, 20, 2, 21, 24]\n",
            "initial state\n",
            "[12, 26, 29, 24, 18, 16, 31, 15, 23, 0, 18, 1, 2, 12, 18, 5, 19, 28, 6, 28, 4, 2, 29, 6, 12, 9, 20, 23, 1, 13, 28, 4]\n",
            "[17, 14, 3, 8, 26, 11, 31, 15, 10, 24, 30, 27, 7, 0, 18, 5, 5, 9, 21, 30, 11, 2, 29, 22, 12, 0, 20, 23, 6, 13, 28, 4]\n",
            "we can find solution for  0  times\n"
          ],
          "name": "stdout"
        }
      ]
    },
    {
      "cell_type": "markdown",
      "metadata": {
        "id": "xZKOA5A4UW4E",
        "colab_type": "text"
      },
      "source": [
        "## Task 2. (Genetic Algorithm) (25 pts)\n",
        "> Implement a Genetic algorithm to find a solution of the N-queens problem. Use the number of pairwise attacks as the objective function. Repeat the program 100 times for N = 8, N = 16, and N = 32 and show how many times you can find the solutions.\n"
      ]
    },
    {
      "cell_type": "code",
      "metadata": {
        "id": "k2L-JCsmUqAF",
        "colab_type": "code",
        "colab": {}
      },
      "source": [
        "def fitness(board):\n",
        "    \"\"\"\n",
        "    find fitness fucntion\n",
        "    \"\"\"\n",
        "    h = 0\n",
        "    for i in range(len(board)):\n",
        "    #Check every column we haven't already checked\n",
        "        for j in range(i + 1,len(board)):\n",
        "          #Queens are in the same row\n",
        "          if board[i] == board[j]:\n",
        "            h += 1\n",
        "      #Get the difference between the current column\n",
        "      #and the check column\n",
        "          offset = j - i\n",
        "      #To be a diagonal, the check column value has to be \n",
        "      #equal to the current column value +/- the offset\n",
        "          if board[i] == board[j] - offset or board[i] == board[j] + offset:\n",
        "            h += 1\n",
        "     \n",
        "    return h\n",
        "\n",
        "def swap_random(seq):\n",
        "    \"\"\"\n",
        "    randomly sway two positions in the list\n",
        "    \"\"\"\n",
        "    idx = range(len(seq))\n",
        "    i1, i2 = random.sample(idx, 2)\n",
        "    seq[i1], seq[i2] = seq[i2], seq[i1]\n",
        "\n",
        "\n",
        "def genetic(size):\n",
        "    \"\"\"\n",
        "    achieve genetic algorithm\n",
        "    population use 2 times of demention\n",
        "    probability function use 1/fitness function to pick 2 from population\n",
        "    \"\"\"\n",
        "    global counter\n",
        "    population=2*size\n",
        "    score=[]\n",
        "    pool=[]\n",
        "    #randomly create pool\n",
        "    for i in range(population):\n",
        "        pool.append(random_place(size))\n",
        "    #print inital pool\n",
        "    #print(pool)       \n",
        "        #get probability list    \n",
        "    for i in range(population):\n",
        "            score.append(1/fitness(pool[i]))\n",
        "    for j in range(9000):\n",
        "        #use survival function to calculate probability\n",
        "        prob=[float(i)/sum(score) for i in score]\n",
        "        parent1_idx,parent2_idx=np.random.choice(len(pool),2,p=prob)\n",
        "        parent1=pool[parent1_idx]\n",
        "        parent2=pool[parent2_idx]\n",
        "        np.random.shuffle(parent1)\n",
        "        #np.random.shuffle(parent2)\n",
        "        index1=int(size/4)\n",
        "        #crossover : take 1/4 from randomly shuffled parent1 and take 3/4 from parent2\n",
        "        child1=parent1[:index1]+parent2[index1:]\n",
        "        child2=parent2[:index1]+parent1[index1:]\n",
        "        #mutation(randomly swap two queen in diferent columns)\n",
        "        swap_random(child1) \n",
        "        swap_random(child2)\n",
        "\n",
        "        #subsitute\n",
        "        pool[parent1_idx]=child1\n",
        "        pool[parent2_idx]=child2\n",
        "        if fitness(pool[parent1_idx])==0:\n",
        "            print('find solution:\\n',pool[parent1_idx],'in',j,'steps')\n",
        "            counter=counter+1\n",
        "            return\n",
        "        if fitness(pool[parent2_idx])==0:\n",
        "            print('find solution:\\n',pool[parent2_idx],'in',j,'steps')\n",
        "            counter=counter+1\n",
        "            return\n",
        "        score[parent1_idx]=1/fitness(pool[parent1_idx])\n",
        "        score[parent2_idx]=1/fitness(pool[parent2_idx])\n",
        "        \n",
        "    return pool"
      ],
      "execution_count": 0,
      "outputs": []
    },
    {
      "cell_type": "markdown",
      "metadata": {
        "id": "05eb9OfsUHWc",
        "colab_type": "text"
      },
      "source": [
        "<center><h2>8 Queens</h2><center>"
      ]
    },
    {
      "cell_type": "code",
      "metadata": {
        "id": "FAwGjjdFUIa1",
        "colab_type": "code",
        "colab": {
          "base_uri": "https://localhost:8080/",
          "height": 272
        },
        "outputId": "4ecbf9c7-19f3-4c68-ba25-13e4d3a59a2a"
      },
      "source": [
        "#8 queens\n",
        "counter=0\n",
        "for i in range(100):\n",
        "    genetic(8)\n",
        "print(\"we can find solution for \",counter,' times')   "
      ],
      "execution_count": 11,
      "outputs": [
        {
          "output_type": "stream",
          "text": [
            "find solution:\n",
            " [0, 6, 3, 5, 7, 1, 4, 2] in 5453 steps\n",
            "find solution:\n",
            " [6, 1, 5, 2, 0, 3, 7, 4] in 4715 steps\n",
            "find solution:\n",
            " [2, 5, 7, 0, 3, 6, 4, 1] in 3428 steps\n",
            "find solution:\n",
            " [5, 2, 6, 3, 0, 7, 1, 4] in 4123 steps\n",
            "find solution:\n",
            " [2, 4, 7, 3, 0, 6, 1, 5] in 8583 steps\n",
            "find solution:\n",
            " [2, 5, 1, 6, 0, 3, 7, 4] in 568 steps\n",
            "find solution:\n",
            " [4, 0, 7, 3, 1, 6, 2, 5] in 4797 steps\n",
            "we can find solution for  7  times\n"
          ],
          "name": "stdout"
        }
      ]
    },
    {
      "cell_type": "markdown",
      "metadata": {
        "id": "Y_0y0lnFUKnN",
        "colab_type": "text"
      },
      "source": [
        "<center><h2>16 Queens</h2><center>"
      ]
    },
    {
      "cell_type": "code",
      "metadata": {
        "id": "OHBvyAooU5Vm",
        "colab_type": "code",
        "colab": {}
      },
      "source": [
        "#16 queens\n",
        "counter=0\n",
        "for i in range(100):\n",
        "    genetic(16)\n",
        "print(\"we can find solution for \",counter,' times')"
      ],
      "execution_count": 0,
      "outputs": []
    },
    {
      "cell_type": "markdown",
      "metadata": {
        "id": "jvVPoOz9UIxk",
        "colab_type": "text"
      },
      "source": [
        "<center><h2>32 Queens</h2><center>"
      ]
    },
    {
      "cell_type": "code",
      "metadata": {
        "id": "auOx84vkUJcs",
        "colab_type": "code",
        "colab": {}
      },
      "source": [
        "#32 queens\n",
        "counter=0\n",
        "for i in range(20):\n",
        "    genetic(32)\n",
        "print(\"we can find solution for \",counter,' times') "
      ],
      "execution_count": 0,
      "outputs": []
    },
    {
      "cell_type": "markdown",
      "metadata": {
        "id": "73YgliUoU9oO",
        "colab_type": "text"
      },
      "source": [
        "## Analysis for the N Queens\n",
        ">  N Queens problem using hill climbing.\n",
        "  - The hill climbing algorithm fails most of the times to find a solution in 100 iterations for 8-queens problem , to find the minimum for the same we need to increase the number of iterations.\n",
        "for 16 queens and 32 queen problem there is no solution and also it takes more time to find to the minimum\n",
        "  - Hill climbing gives us the solution in tangile ammount of time but its not the correct one.\n",
        "\n",
        ">  N Queens problem using genetic algorithm.\n",
        "  - 8 queens using genetic algorithm find solutions for every randomly generated state in 100 iterations, but for N- queens it doesnot. We need to increase number of iterations in order to solve the N Queens.\n",
        "  - It also takes a lot of time to find the solution."
      ]
    },
    {
      "cell_type": "code",
      "metadata": {
        "id": "MRFW9hVFWXnX",
        "colab_type": "code",
        "colab": {}
      },
      "source": [
        ""
      ],
      "execution_count": 0,
      "outputs": []
    }
  ]
}