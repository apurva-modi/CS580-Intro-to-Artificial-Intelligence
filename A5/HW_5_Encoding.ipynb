{
 "cells": [
  {
   "cell_type": "code",
   "execution_count": null,
   "metadata": {},
   "outputs": [],
   "source": [
    "import os\n",
    "import sys\n",
    "count=1\n",
    "lines=''\n",
    "copyline=''\n",
    "numbers={'0':'1 0 0 0 0 0 0 0 0 0','1':'0 1 0 0 0 0 0 0 0 0','2':'0 0 1 0 0 0 0 0 0 0','3':'0 0 0 1 0 0 0 0 0 0'\n",
    "         ,'4':'0 0 0 0 1 0 0 0 0 0','5':'0 0 0 0 0 1 0 0 0 0','6':'0 0 0 0 0 0 1 0 0 0','7':'0 0 0 0 0 0 0 1 0 0'\n",
    "         ,'8':'0 0 0 0 0 0 0 0 1 0','9':'0 0 0 0 0 0 0 0 0 1'}\n",
    "file=open('optdigits-orig.windep','r')\n",
    "#file.seek(32)\n",
    "for line in file.readlines():\n",
    "    if count!=33:\n",
    "        templist = []\n",
    "        templine = line.rstrip('\\n')\n",
    "        #print(templine)\n",
    "        for i in templine:\n",
    "            lines+= i+' '\n",
    "        \n",
    "    else:\n",
    "        copyline+=numbers[line.strip()]\n",
    "        copyline+='\\n'\n",
    "        lines+='\\n'\n",
    "        count=0\n",
    "    count = count + 1\n",
    "#print(lines)\n",
    "copy=open('features.txt','w')\n",
    "copy.write(lines)\n",
    "copy.close()\n",
    "copy=open('target.txt','w')\n",
    "copy.write(copyline)\n",
    "copy.close()\n",
    "file.close()"
   ]
  }
 ],
 "metadata": {
  "kernelspec": {
   "display_name": "Python 3",
   "language": "python",
   "name": "python3"
  },
  "language_info": {
   "codemirror_mode": {
    "name": "ipython",
    "version": 3
   },
   "file_extension": ".py",
   "mimetype": "text/x-python",
   "name": "python",
   "nbconvert_exporter": "python",
   "pygments_lexer": "ipython3",
   "version": "3.7.3"
  }
 },
 "nbformat": 4,
 "nbformat_minor": 2
}
