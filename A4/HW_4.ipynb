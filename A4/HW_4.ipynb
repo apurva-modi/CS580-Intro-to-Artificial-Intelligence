{
  "nbformat": 4,
  "nbformat_minor": 0,
  "metadata": {
    "colab": {
      "name": "HW#4.ipynb",
      "provenance": [],
      "collapsed_sections": []
    },
    "kernelspec": {
      "name": "python3",
      "display_name": "Python 3"
    }
  },
  "cells": [
    {
      "cell_type": "code",
      "metadata": {
        "id": "Z0wjrfEhzX8W",
        "colab_type": "code",
        "colab": {}
      },
      "source": [
        "import random\n",
        "import sys"
      ],
      "execution_count": 0,
      "outputs": []
    },
    {
      "cell_type": "code",
      "metadata": {
        "id": "kRlcnWD2zaX1",
        "colab_type": "code",
        "colab": {}
      },
      "source": [
        "def drawBoard(board):\n",
        "  # This function prints out the board that it was passed. Returns None.\n",
        "  HLINE = '  +---+---+---+---+---+---+---+---+'\n",
        "  VLINE = '  |   |   |   |   |   |   |   |   |'\n",
        "  print('    1   2   3   4   5   6   7   8')\n",
        "  print(HLINE)\n",
        "  for y in range(8):\n",
        "      print(VLINE)\n",
        "      print(y+1, end=' ')\n",
        "      for x in range(8):\n",
        "          print('| %s' % (board[x][y]), end=' ')\n",
        "      print('|')\n",
        "      #print(VLINE)\n",
        "      print(HLINE)"
      ],
      "execution_count": 0,
      "outputs": []
    },
    {
      "cell_type": "code",
      "metadata": {
        "id": "c7u7XRblz9Gv",
        "colab_type": "code",
        "colab": {}
      },
      "source": [
        "def resetBoard(board):\n",
        "  # Blanks out the board it is passed, except for the original starting position.\n",
        "  for x in range(8):\n",
        "    for y in range(8):\n",
        "      board[x][y] = ' '\n",
        "  # Starting pieces\n",
        "  board[3][3] = 'X'\n",
        "  board[3][4] = 'O'\n",
        "  board[4][3] = 'O'\n",
        "  board[4][4] = 'X'"
      ],
      "execution_count": 0,
      "outputs": []
    },
    {
      "cell_type": "code",
      "metadata": {
        "id": "Pc3jR_gc0SFQ",
        "colab_type": "code",
        "colab": {}
      },
      "source": [
        "def getNewBoard():\n",
        "  # Creates a brand new, blank board data structure.\n",
        "  board = []\n",
        "  for i in range(8):\n",
        "    board.append([' '] * 8)\n",
        "  \n",
        "  return board"
      ],
      "execution_count": 0,
      "outputs": []
    },
    {
      "cell_type": "code",
      "metadata": {
        "id": "hkOoHCWo0bW_",
        "colab_type": "code",
        "colab": {}
      },
      "source": [
        " def isValidMove(board, tile, xstart, ystart):\n",
        "   # Returns False if the player's move on space xstart, ystart is invalid.\n",
        "   # If it is a valid move, returns a list of spaces that would become the player's if they made a move here.\n",
        "   if board[xstart][ystart] != ' ' or not isOnBoard(xstart, ystart):\n",
        "     return False\n",
        "\n",
        "   board[xstart][ystart] = tile # temporarily set the tile on the board.\n",
        "   \n",
        "   if tile == 'X':\n",
        "     otherTile = 'O'\n",
        "   else:\n",
        "     otherTile = 'X'\n",
        "     \n",
        "   tilesToFlip = []\n",
        "   for xdirection, ydirection in [[0, 1], [1, 1], [1, 0], [1, -1], [0, -1], [-1, -1], [-1, 0], [-1, 1]]:\n",
        "     x, y = xstart, ystart\n",
        "     x += xdirection # first step in the direction\n",
        "     y += ydirection # first step in the direction\n",
        "     if isOnBoard(x, y) and board[x][y] == otherTile:\n",
        "       # There is a piece belonging to the other player next to our piece.\n",
        "       x += xdirection\n",
        "       y += ydirection\n",
        "       if not isOnBoard(x, y):\n",
        "         continue\n",
        "       while board[x][y] == otherTile:\n",
        "         x += xdirection\n",
        "         y += ydirection\n",
        "         \n",
        "         if not isOnBoard(x, y): # break out of while loop, then continue in for loop \n",
        "           break\n",
        "       if not isOnBoard(x, y):\n",
        "         continue\n",
        "       if board[x][y] == tile:\n",
        "         # There are pieces to flip over. Go in the reverse direction until we reach the original space, noting all the tiles along the way.\n",
        "         while True:\n",
        "           x -= xdirection\n",
        "           y -= ydirection\n",
        "           if x == xstart and y == ystart:\n",
        "             break\n",
        "           tilesToFlip.append([x, y])\n",
        "           \n",
        "   board[xstart][ystart] = ' ' # restore the empty space\n",
        "   if len(tilesToFlip) == 0: # If no tiles were flipped, this is not a valid move.\n",
        "     return False\n",
        "   return tilesToFlip"
      ],
      "execution_count": 0,
      "outputs": []
    },
    {
      "cell_type": "code",
      "metadata": {
        "id": "Jy4ogNCx1lpi",
        "colab_type": "code",
        "colab": {}
      },
      "source": [
        "def isOnBoard(x, y):\n",
        "   # Returns True if the coordinates are located on the board.\n",
        "   return x >= 0 and x <= 7 and y >= 0 and y <=7"
      ],
      "execution_count": 0,
      "outputs": []
    },
    {
      "cell_type": "code",
      "metadata": {
        "id": "H8V3FhWD2tkb",
        "colab_type": "code",
        "colab": {}
      },
      "source": [
        "def getBoardWithValidMoves(board, tile):\n",
        "  # Returns a new board with . marking the valid moves the given player can make.\n",
        "  dupeBoard = getBoardCopy(board)\n",
        "  for x, y in getValidMoves(dupeBoard, tile):\n",
        "    dupeBoard[x][y] = '.'\n",
        "  return dupeBoard\n"
      ],
      "execution_count": 0,
      "outputs": []
    },
    {
      "cell_type": "code",
      "metadata": {
        "id": "b5__qh1x23Yr",
        "colab_type": "code",
        "colab": {}
      },
      "source": [
        "def getValidMoves(board, tile):\n",
        "   # Returns a list of [x,y] lists of valid moves for the given player on the given board.\n",
        "   validMoves = []\n",
        "   for x in range(8):\n",
        "     for y in range(8):\n",
        "       if isValidMove(board, tile, x, y) != False:\n",
        "         validMoves.append([x, y])\n",
        "   return validMoves"
      ],
      "execution_count": 0,
      "outputs": []
    },
    {
      "cell_type": "code",
      "metadata": {
        "id": "iFhFIKGu3Jlc",
        "colab_type": "code",
        "colab": {}
      },
      "source": [
        "def getScoreOfBoard(board):\n",
        "  # Determine the score by counting the tiles. Returns a dictionary with keys 'X' and 'O'.\n",
        "  xscore = 0\n",
        "  oscore = 0\n",
        "  for x in range(8):\n",
        "    for y in range(8):\n",
        "      if board[x][y] == 'X':\n",
        "        xscore += 1\n",
        "      if board[x][y] == 'O':\n",
        "        oscore += 1\n",
        "  return {'X':xscore, 'O':oscore}"
      ],
      "execution_count": 0,
      "outputs": []
    },
    {
      "cell_type": "code",
      "metadata": {
        "id": "6sy3xCBS3XyU",
        "colab_type": "code",
        "colab": {}
      },
      "source": [
        "def enterPlayerTile():\n",
        "  # Lets the player type which tile they want to be.\n",
        "  # Returns a list with the player's tile as the first item, and the computer's tile as the second.\n",
        "  tile = ''\n",
        "  while not (tile == 'X' or tile == 'O'):\n",
        "    print('Do you want to be X or O?')\n",
        "    tile = input().upper()\n",
        "  # the first element in the list is the player's tile, the second is the computer's tile.\n",
        "  if tile == 'X':\n",
        "    return ['X', 'O']\n",
        "  else:\n",
        "    return ['O', 'X']"
      ],
      "execution_count": 0,
      "outputs": []
    },
    {
      "cell_type": "code",
      "metadata": {
        "id": "xE9eaA8U3uYU",
        "colab_type": "code",
        "colab": {}
      },
      "source": [
        "def whoGoesFirst():\n",
        "  # Randomly choose the player who goes first.\n",
        "  if random.randint(0, 1) == 0:\n",
        "    return 'computer'\n",
        "  else:\n",
        "    return 'player'"
      ],
      "execution_count": 0,
      "outputs": []
    },
    {
      "cell_type": "code",
      "metadata": {
        "id": "Hb5Zax8Q4EWM",
        "colab_type": "code",
        "colab": {}
      },
      "source": [
        "def playAgain():\n",
        "  # This function returns True if the player wants to play again, otherwise it returns False.\n",
        "  print('Do you want to play again? (yes or no)')\n",
        "  return input().lower().startswith('y')"
      ],
      "execution_count": 0,
      "outputs": []
    },
    {
      "cell_type": "code",
      "metadata": {
        "id": "KA_Dpr0r4OMG",
        "colab_type": "code",
        "colab": {}
      },
      "source": [
        "def makeMove(board, tile, xstart, ystart):\n",
        "  # Place the tile on the board at xstart, ystart, and flip any of the opponent's pieces.\n",
        "  # Returns False if this is an invalid move, True if it is valid.\n",
        "  tilesToFlip = isValidMove(board, tile, xstart, ystart)\n",
        "  if tilesToFlip == False:\n",
        "    return False\n",
        "  board[xstart][ystart] = tile\n",
        "  for x, y in tilesToFlip:\n",
        "    board[x][y] = tile\n",
        "  return True"
      ],
      "execution_count": 0,
      "outputs": []
    },
    {
      "cell_type": "code",
      "metadata": {
        "id": "l6CMCXht4aP2",
        "colab_type": "code",
        "colab": {}
      },
      "source": [
        "def getBoardCopy(board):\n",
        "  # Make a duplicate of the board list and return the duplicate.\n",
        "  dupeBoard = getNewBoard()\n",
        "  for x in range(8):\n",
        "    for y in range(8):\n",
        "      dupeBoard[x][y] = board[x][y]\n",
        "  return dupeBoard"
      ],
      "execution_count": 0,
      "outputs": []
    },
    {
      "cell_type": "code",
      "metadata": {
        "id": "pqt6pqR_4gjW",
        "colab_type": "code",
        "colab": {}
      },
      "source": [
        "def isOnCorner(x, y):\n",
        "  # Returns True if the position is in one of the four corners.\n",
        "  return (x == 0 and y == 0) or (x == 7 and y == 0) or (x == 0 and y == 7) or (x == 7 and y == 7)"
      ],
      "execution_count": 0,
      "outputs": []
    },
    {
      "cell_type": "code",
      "metadata": {
        "id": "FlOy6nZu4nXW",
        "colab_type": "code",
        "colab": {}
      },
      "source": [
        "def getPlayerMove(board, playerTile):\n",
        "  # Let the player type in their move.\n",
        "  # Returns the move as [x, y] (or return the string'quit')\n",
        "  DIGITS1TO8 = '1 2 3 4 5 6 7 8'.split()\n",
        "  while True:\n",
        "    print('Enter your move, or type quit to end the game.')\n",
        "    move = input().lower()\n",
        "    if move == 'quit':\n",
        "      return 'quit'\n",
        "    if len(move) == 2 and move[0] in DIGITS1TO8 and move[1] in DIGITS1TO8:\n",
        "      x = int(move[0]) - 1\n",
        "      y = int(move[1]) - 1\n",
        "      if isValidMove(board, playerTile, x, y) == False:\n",
        "        continue\n",
        "      else:\n",
        "        break\n",
        "    else:\n",
        "      print('That is not a valid move. Type the x digit (1-8), then the y digit (1-8).')\n",
        "      print('For example, 81 will be the top-right corner.')\n",
        "  return [x, y]"
      ],
      "execution_count": 0,
      "outputs": []
    },
    {
      "cell_type": "code",
      "metadata": {
        "id": "Wb5aB4Pb5ROv",
        "colab_type": "code",
        "colab": {}
      },
      "source": [
        "def getComputerMove(board, computerTile):\n",
        "  # Given a board and the computer's tile, determine where to\n",
        "  # move and return that move as a [x, y] list.\n",
        "  possibleMoves = getValidMoves(board, computerTile)\n",
        "  # randomize the order of the possible moves\n",
        "  random.shuffle(possibleMoves)\n",
        "  # always go for a corner if available.\n",
        "  for x, y in possibleMoves:\n",
        "    if isOnCorner(x, y):\n",
        "      return [x, y]\n",
        "  # Go through all the possible moves and remember the best scoring move\n",
        "  bestScore = -1\n",
        "  for x, y in possibleMoves:\n",
        "    dupeBoard = getBoardCopy(board)\n",
        "    makeMove(dupeBoard, computerTile, x, y)\n",
        "    score = getScoreOfBoard(dupeBoard)[computerTile]\n",
        "    if score > bestScore:\n",
        "      bestMove = [x, y]\n",
        "      bestScore = score\n",
        "  return bestMove"
      ],
      "execution_count": 0,
      "outputs": []
    },
    {
      "cell_type": "code",
      "metadata": {
        "id": "eS6cZQsQ5w-P",
        "colab_type": "code",
        "colab": {}
      },
      "source": [
        "def showPoints(playerTile, computerTile):\n",
        "  # Prints out the current score.\n",
        "  scores = getScoreOfBoard(mainBoard)\n",
        "  print('You have %s points. The computer has %s points.' % (scores[playerTile], scores[computerTile]))"
      ],
      "execution_count": 0,
      "outputs": []
    },
    {
      "cell_type": "code",
      "metadata": {
        "id": "m4HRwANC6CrY",
        "colab_type": "code",
        "outputId": "29c3eab5-5963-4825-edd6-20cd69d11ee9",
        "colab": {
          "base_uri": "https://localhost:8080/",
          "height": 555
        }
      },
      "source": [
        "print('Welcome to Othello!')\n",
        "while True:\n",
        "  # Reset the board and game.\n",
        "  mainBoard = getNewBoard()\n",
        "  resetBoard(mainBoard)\n",
        "  playerTile, computerTile = enterPlayerTile()\n",
        "  turn = whoGoesFirst()\n",
        "  print('The ' + turn + ' will go first.')\n",
        "  \n",
        "  while True:\n",
        "    if turn == 'player':\n",
        "      # Player's turn.\n",
        "      drawBoard(mainBoard)\n",
        "        \n",
        "      showPoints(playerTile, computerTile)\n",
        "      move = getPlayerMove(mainBoard, playerTile)\n",
        "      \n",
        "      if move == 'quit':\n",
        "        print('Thanks for playing!')\n",
        "        sys.exit() # terminate the program\n",
        "      else:\n",
        "        makeMove(mainBoard, playerTile, move[0], move[1])\n",
        "        \n",
        "      if getValidMoves(mainBoard, computerTile) == []:\n",
        "        break\n",
        "      else:\n",
        "        turn = 'computer'\n",
        "    else:\n",
        "      # Computer's turn.\n",
        "      drawBoard(mainBoard)\n",
        "      showPoints(playerTile, computerTile)\n",
        "      input('Press Enter to see the computer\\'s move.')\n",
        "      x, y = getComputerMove(mainBoard, computerTile)\n",
        "      makeMove(mainBoard, computerTile, x, y)\n",
        "      if getValidMoves(mainBoard, playerTile) == []:\n",
        "        break\n",
        "      else:\n",
        "        turn = 'player'\n",
        "  # Display the final score.\n",
        "  drawBoard(mainBoard)\n",
        "  scores = getScoreOfBoard(mainBoard)\n",
        "  print('X scored %s points. O scored %s points.' % (scores['X'], scores['O']))\n",
        "  if scores[playerTile] > scores[computerTile]:\n",
        "    print('You beat the computer by %s points! Congratulations!' % (scores[playerTile] - scores[computerTile]))\n",
        "  elif scores[playerTile] < scores[computerTile]:\n",
        "    print('You lost. The computer beat you by %s points.' % (scores[computerTile] - scores[playerTile]))\n",
        "  else:\n",
        "    print('The game was a tie!')\n",
        "  \n",
        "  if not playAgain():\n",
        "     break"
      ],
      "execution_count": 0,
      "outputs": [
        {
          "output_type": "stream",
          "text": [
            "Welcome to Othello!\n",
            "Do you want to be X or O?\n"
          ],
          "name": "stdout"
        },
        {
          "output_type": "error",
          "ename": "KeyboardInterrupt",
          "evalue": "ignored",
          "traceback": [
            "\u001b[0;31m---------------------------------------------------------------------------\u001b[0m",
            "\u001b[0;31mKeyboardInterrupt\u001b[0m                         Traceback (most recent call last)",
            "\u001b[0;32m/usr/local/lib/python3.6/dist-packages/ipykernel/kernelbase.py\u001b[0m in \u001b[0;36m_input_request\u001b[0;34m(self, prompt, ident, parent, password)\u001b[0m\n\u001b[1;32m    729\u001b[0m             \u001b[0;32mtry\u001b[0m\u001b[0;34m:\u001b[0m\u001b[0;34m\u001b[0m\u001b[0;34m\u001b[0m\u001b[0m\n\u001b[0;32m--> 730\u001b[0;31m                 \u001b[0mident\u001b[0m\u001b[0;34m,\u001b[0m \u001b[0mreply\u001b[0m \u001b[0;34m=\u001b[0m \u001b[0mself\u001b[0m\u001b[0;34m.\u001b[0m\u001b[0msession\u001b[0m\u001b[0;34m.\u001b[0m\u001b[0mrecv\u001b[0m\u001b[0;34m(\u001b[0m\u001b[0mself\u001b[0m\u001b[0;34m.\u001b[0m\u001b[0mstdin_socket\u001b[0m\u001b[0;34m,\u001b[0m \u001b[0;36m0\u001b[0m\u001b[0;34m)\u001b[0m\u001b[0;34m\u001b[0m\u001b[0;34m\u001b[0m\u001b[0m\n\u001b[0m\u001b[1;32m    731\u001b[0m             \u001b[0;32mexcept\u001b[0m \u001b[0mException\u001b[0m\u001b[0;34m:\u001b[0m\u001b[0;34m\u001b[0m\u001b[0;34m\u001b[0m\u001b[0m\n",
            "\u001b[0;32m/usr/local/lib/python3.6/dist-packages/jupyter_client/session.py\u001b[0m in \u001b[0;36mrecv\u001b[0;34m(self, socket, mode, content, copy)\u001b[0m\n\u001b[1;32m    802\u001b[0m         \u001b[0;32mtry\u001b[0m\u001b[0;34m:\u001b[0m\u001b[0;34m\u001b[0m\u001b[0;34m\u001b[0m\u001b[0m\n\u001b[0;32m--> 803\u001b[0;31m             \u001b[0mmsg_list\u001b[0m \u001b[0;34m=\u001b[0m \u001b[0msocket\u001b[0m\u001b[0;34m.\u001b[0m\u001b[0mrecv_multipart\u001b[0m\u001b[0;34m(\u001b[0m\u001b[0mmode\u001b[0m\u001b[0;34m,\u001b[0m \u001b[0mcopy\u001b[0m\u001b[0;34m=\u001b[0m\u001b[0mcopy\u001b[0m\u001b[0;34m)\u001b[0m\u001b[0;34m\u001b[0m\u001b[0;34m\u001b[0m\u001b[0m\n\u001b[0m\u001b[1;32m    804\u001b[0m         \u001b[0;32mexcept\u001b[0m \u001b[0mzmq\u001b[0m\u001b[0;34m.\u001b[0m\u001b[0mZMQError\u001b[0m \u001b[0;32mas\u001b[0m \u001b[0me\u001b[0m\u001b[0;34m:\u001b[0m\u001b[0;34m\u001b[0m\u001b[0;34m\u001b[0m\u001b[0m\n",
            "\u001b[0;32m/usr/local/lib/python3.6/dist-packages/zmq/sugar/socket.py\u001b[0m in \u001b[0;36mrecv_multipart\u001b[0;34m(self, flags, copy, track)\u001b[0m\n\u001b[1;32m    465\u001b[0m         \"\"\"\n\u001b[0;32m--> 466\u001b[0;31m         \u001b[0mparts\u001b[0m \u001b[0;34m=\u001b[0m \u001b[0;34m[\u001b[0m\u001b[0mself\u001b[0m\u001b[0;34m.\u001b[0m\u001b[0mrecv\u001b[0m\u001b[0;34m(\u001b[0m\u001b[0mflags\u001b[0m\u001b[0;34m,\u001b[0m \u001b[0mcopy\u001b[0m\u001b[0;34m=\u001b[0m\u001b[0mcopy\u001b[0m\u001b[0;34m,\u001b[0m \u001b[0mtrack\u001b[0m\u001b[0;34m=\u001b[0m\u001b[0mtrack\u001b[0m\u001b[0;34m)\u001b[0m\u001b[0;34m]\u001b[0m\u001b[0;34m\u001b[0m\u001b[0;34m\u001b[0m\u001b[0m\n\u001b[0m\u001b[1;32m    467\u001b[0m         \u001b[0;31m# have first part already, only loop while more to receive\u001b[0m\u001b[0;34m\u001b[0m\u001b[0;34m\u001b[0m\u001b[0;34m\u001b[0m\u001b[0m\n",
            "\u001b[0;32mzmq/backend/cython/socket.pyx\u001b[0m in \u001b[0;36mzmq.backend.cython.socket.Socket.recv\u001b[0;34m()\u001b[0m\n",
            "\u001b[0;32mzmq/backend/cython/socket.pyx\u001b[0m in \u001b[0;36mzmq.backend.cython.socket.Socket.recv\u001b[0;34m()\u001b[0m\n",
            "\u001b[0;32mzmq/backend/cython/socket.pyx\u001b[0m in \u001b[0;36mzmq.backend.cython.socket._recv_copy\u001b[0;34m()\u001b[0m\n",
            "\u001b[0;32m/usr/local/lib/python3.6/dist-packages/zmq/backend/cython/checkrc.pxd\u001b[0m in \u001b[0;36mzmq.backend.cython.checkrc._check_rc\u001b[0;34m()\u001b[0m\n",
            "\u001b[0;31mKeyboardInterrupt\u001b[0m: ",
            "\nDuring handling of the above exception, another exception occurred:\n",
            "\u001b[0;31mKeyboardInterrupt\u001b[0m                         Traceback (most recent call last)",
            "\u001b[0;32m<ipython-input-21-8a0ac616bf7e>\u001b[0m in \u001b[0;36m<module>\u001b[0;34m()\u001b[0m\n\u001b[1;32m      4\u001b[0m   \u001b[0mmainBoard\u001b[0m \u001b[0;34m=\u001b[0m \u001b[0mgetNewBoard\u001b[0m\u001b[0;34m(\u001b[0m\u001b[0;34m)\u001b[0m\u001b[0;34m\u001b[0m\u001b[0;34m\u001b[0m\u001b[0m\n\u001b[1;32m      5\u001b[0m   \u001b[0mresetBoard\u001b[0m\u001b[0;34m(\u001b[0m\u001b[0mmainBoard\u001b[0m\u001b[0;34m)\u001b[0m\u001b[0;34m\u001b[0m\u001b[0;34m\u001b[0m\u001b[0m\n\u001b[0;32m----> 6\u001b[0;31m   \u001b[0mplayerTile\u001b[0m\u001b[0;34m,\u001b[0m \u001b[0mcomputerTile\u001b[0m \u001b[0;34m=\u001b[0m \u001b[0menterPlayerTile\u001b[0m\u001b[0;34m(\u001b[0m\u001b[0;34m)\u001b[0m\u001b[0;34m\u001b[0m\u001b[0;34m\u001b[0m\u001b[0m\n\u001b[0m\u001b[1;32m      7\u001b[0m   \u001b[0mturn\u001b[0m \u001b[0;34m=\u001b[0m \u001b[0mwhoGoesFirst\u001b[0m\u001b[0;34m(\u001b[0m\u001b[0;34m)\u001b[0m\u001b[0;34m\u001b[0m\u001b[0;34m\u001b[0m\u001b[0m\n\u001b[1;32m      8\u001b[0m   \u001b[0mprint\u001b[0m\u001b[0;34m(\u001b[0m\u001b[0;34m'The '\u001b[0m \u001b[0;34m+\u001b[0m \u001b[0mturn\u001b[0m \u001b[0;34m+\u001b[0m \u001b[0;34m' will go first.'\u001b[0m\u001b[0;34m)\u001b[0m\u001b[0;34m\u001b[0m\u001b[0;34m\u001b[0m\u001b[0m\n",
            "\u001b[0;32m<ipython-input-10-ee3a951bb2f1>\u001b[0m in \u001b[0;36menterPlayerTile\u001b[0;34m()\u001b[0m\n\u001b[1;32m      5\u001b[0m   \u001b[0;32mwhile\u001b[0m \u001b[0;32mnot\u001b[0m \u001b[0;34m(\u001b[0m\u001b[0mtile\u001b[0m \u001b[0;34m==\u001b[0m \u001b[0;34m'X'\u001b[0m \u001b[0;32mor\u001b[0m \u001b[0mtile\u001b[0m \u001b[0;34m==\u001b[0m \u001b[0;34m'O'\u001b[0m\u001b[0;34m)\u001b[0m\u001b[0;34m:\u001b[0m\u001b[0;34m\u001b[0m\u001b[0;34m\u001b[0m\u001b[0m\n\u001b[1;32m      6\u001b[0m     \u001b[0mprint\u001b[0m\u001b[0;34m(\u001b[0m\u001b[0;34m'Do you want to be X or O?'\u001b[0m\u001b[0;34m)\u001b[0m\u001b[0;34m\u001b[0m\u001b[0;34m\u001b[0m\u001b[0m\n\u001b[0;32m----> 7\u001b[0;31m     \u001b[0mtile\u001b[0m \u001b[0;34m=\u001b[0m \u001b[0minput\u001b[0m\u001b[0;34m(\u001b[0m\u001b[0;34m)\u001b[0m\u001b[0;34m.\u001b[0m\u001b[0mupper\u001b[0m\u001b[0;34m(\u001b[0m\u001b[0;34m)\u001b[0m\u001b[0;34m\u001b[0m\u001b[0;34m\u001b[0m\u001b[0m\n\u001b[0m\u001b[1;32m      8\u001b[0m   \u001b[0;31m# the first element in the list is the player's tile, the second is the computer's tile.\u001b[0m\u001b[0;34m\u001b[0m\u001b[0;34m\u001b[0m\u001b[0;34m\u001b[0m\u001b[0m\n\u001b[1;32m      9\u001b[0m   \u001b[0;32mif\u001b[0m \u001b[0mtile\u001b[0m \u001b[0;34m==\u001b[0m \u001b[0;34m'X'\u001b[0m\u001b[0;34m:\u001b[0m\u001b[0;34m\u001b[0m\u001b[0;34m\u001b[0m\u001b[0m\n",
            "\u001b[0;32m/usr/local/lib/python3.6/dist-packages/ipykernel/kernelbase.py\u001b[0m in \u001b[0;36mraw_input\u001b[0;34m(self, prompt)\u001b[0m\n\u001b[1;32m    703\u001b[0m             \u001b[0mself\u001b[0m\u001b[0;34m.\u001b[0m\u001b[0m_parent_ident\u001b[0m\u001b[0;34m,\u001b[0m\u001b[0;34m\u001b[0m\u001b[0;34m\u001b[0m\u001b[0m\n\u001b[1;32m    704\u001b[0m             \u001b[0mself\u001b[0m\u001b[0;34m.\u001b[0m\u001b[0m_parent_header\u001b[0m\u001b[0;34m,\u001b[0m\u001b[0;34m\u001b[0m\u001b[0;34m\u001b[0m\u001b[0m\n\u001b[0;32m--> 705\u001b[0;31m             \u001b[0mpassword\u001b[0m\u001b[0;34m=\u001b[0m\u001b[0;32mFalse\u001b[0m\u001b[0;34m,\u001b[0m\u001b[0;34m\u001b[0m\u001b[0;34m\u001b[0m\u001b[0m\n\u001b[0m\u001b[1;32m    706\u001b[0m         )\n\u001b[1;32m    707\u001b[0m \u001b[0;34m\u001b[0m\u001b[0m\n",
            "\u001b[0;32m/usr/local/lib/python3.6/dist-packages/ipykernel/kernelbase.py\u001b[0m in \u001b[0;36m_input_request\u001b[0;34m(self, prompt, ident, parent, password)\u001b[0m\n\u001b[1;32m    733\u001b[0m             \u001b[0;32mexcept\u001b[0m \u001b[0mKeyboardInterrupt\u001b[0m\u001b[0;34m:\u001b[0m\u001b[0;34m\u001b[0m\u001b[0;34m\u001b[0m\u001b[0m\n\u001b[1;32m    734\u001b[0m                 \u001b[0;31m# re-raise KeyboardInterrupt, to truncate traceback\u001b[0m\u001b[0;34m\u001b[0m\u001b[0;34m\u001b[0m\u001b[0;34m\u001b[0m\u001b[0m\n\u001b[0;32m--> 735\u001b[0;31m                 \u001b[0;32mraise\u001b[0m \u001b[0mKeyboardInterrupt\u001b[0m\u001b[0;34m\u001b[0m\u001b[0;34m\u001b[0m\u001b[0m\n\u001b[0m\u001b[1;32m    736\u001b[0m             \u001b[0;32melse\u001b[0m\u001b[0;34m:\u001b[0m\u001b[0;34m\u001b[0m\u001b[0;34m\u001b[0m\u001b[0m\n\u001b[1;32m    737\u001b[0m                 \u001b[0;32mbreak\u001b[0m\u001b[0;34m\u001b[0m\u001b[0;34m\u001b[0m\u001b[0m\n",
            "\u001b[0;31mKeyboardInterrupt\u001b[0m: "
          ]
        }
      ]
    },
    {
      "cell_type": "code",
      "metadata": {
        "id": "2QjCkZr57iSL",
        "colab_type": "code",
        "colab": {}
      },
      "source": [
        "x\n"
      ],
      "execution_count": 0,
      "outputs": []
    }
  ]
}