{
  "nbformat": 4,
  "nbformat_minor": 0,
  "metadata": {
    "colab": {
      "name": "HW#3.ipynb",
      "provenance": [],
      "collapsed_sections": []
    },
    "kernelspec": {
      "name": "python3",
      "display_name": "Python 3"
    }
  },
  "cells": [
    {
      "cell_type": "code",
      "metadata": {
        "id": "CCFB50XySQrG",
        "colab_type": "code",
        "outputId": "41e94e99-b98f-470b-f30f-e5c2ba24895b",
        "colab": {
          "base_uri": "https://localhost:8080/",
          "height": 34
        }
      },
      "source": [
        "from google.colab import drive\n",
        "drive.mount('/content/drive')"
      ],
      "execution_count": 0,
      "outputs": [
        {
          "output_type": "stream",
          "text": [
            "Drive already mounted at /content/drive; to attempt to forcibly remount, call drive.mount(\"/content/drive\", force_remount=True).\n"
          ],
          "name": "stdout"
        }
      ]
    },
    {
      "cell_type": "code",
      "metadata": {
        "id": "gJrg-0WfVZch",
        "colab_type": "code",
        "colab": {}
      },
      "source": [
        "import numpy as np\n",
        "import io\n",
        "import math\n",
        "from functools import reduce\n",
        "import sys\n",
        "from copy import deepcopy\n",
        "\n",
        "def output(a):\n",
        "    sys.stdout.write(str(a))\n",
        "\n",
        "N = 9"
      ],
      "execution_count": 0,
      "outputs": []
    },
    {
      "cell_type": "markdown",
      "metadata": {
        "id": "IJWnHXG2c5kU",
        "colab_type": "text"
      },
      "source": [
        "## Task 1 : Parse the Sudoku data file (5 pts)"
      ]
    },
    {
      "cell_type": "code",
      "metadata": {
        "id": "kd6oZgqBSQSA",
        "colab_type": "code",
        "outputId": "256e2956-b9a9-4ae8-e947-ee2d06ab178d",
        "colab": {
          "base_uri": "https://localhost:8080/",
          "height": 54
        }
      },
      "source": [
        "data = \"/content/drive/My Drive/courses/AI/A3/evil.txt\"\n",
        "def getPuzzle(filename):\n",
        "    with open(filename, 'r') as f:\n",
        "        lines = f.read().split('\\n')\n",
        "    board = []\n",
        "    for line in lines:\n",
        "        if len(line) != 0:\n",
        "            line= [int(x) if x.isdigit() else x for z in line for x in str(z)]\n",
        "            board.append(line)\n",
        "    board = board[1:][:]\n",
        "    print(board)\n",
        "    return board\n",
        "board = getPuzzle(data)"
      ],
      "execution_count": 0,
      "outputs": [
        {
          "output_type": "stream",
          "text": [
            "[[5, 0, 0, 0, 0, 0, 0, 0, 0], [8, 6, 1, 2, 0, 3, 0, 0, 0], [0, 2, 0, 0, 5, 0, 0, 0, 0], [6, 0, 9, 8, 0, 0, 0, 0, 0], [0, 7, 0, 4, 0, 5, 0, 8, 0], [0, 0, 0, 0, 0, 6, 1, 0, 5], [0, 0, 0, 0, 7, 0, 0, 3, 0], [0, 0, 0, 6, 0, 1, 5, 4, 2], [0, 0, 0, 0, 0, 0, 0, 0, 8]]\n"
          ],
          "name": "stdout"
        }
      ]
    },
    {
      "cell_type": "markdown",
      "metadata": {
        "id": "ZfKTF37ldew7",
        "colab_type": "text"
      },
      "source": [
        "## Task 2 : Naïve Backtracking Algorithm (30 pts)¶\n",
        "Implement a naïve backtracking algorithm. The selection of variables and assignment of values can be done either in order or randomly."
      ]
    },
    {
      "cell_type": "code",
      "metadata": {
        "id": "9ALim263QYaT",
        "colab_type": "code",
        "outputId": "3eaf70d8-074e-451d-9e87-267a9830020e",
        "colab": {
          "base_uri": "https://localhost:8080/",
          "height": 202
        }
      },
      "source": [
        "def print_board(board):\n",
        "    # print the sudoku board. \n",
        "    if not board:\n",
        "        output(\"No solution\")\n",
        "        return\n",
        "    for i in range(N):\n",
        "        for j in range(N):\n",
        "            cell = board[i][j]\n",
        "            if cell == 0 or isinstance(cell, set):\n",
        "                output('.')\n",
        "            else:\n",
        "                output(cell)\n",
        "            if (j + 1) % 3 == 0 and j < 8:\n",
        "                output(' |')\n",
        "\n",
        "            if j != 8:\n",
        "                output(' ')\n",
        "        output('\\n')\n",
        "        if (i + 1) % 3 == 0 and i < 8:\n",
        "            output(\"- - - + - - - + - - -\\n\")\n",
        "\n",
        "\n",
        "def find_empty(bo):\n",
        "    # find empty spaces in the board\n",
        "    for i in range(len(bo)):\n",
        "        for j in range(len(bo[0])):\n",
        "            if bo[i][j] == 0:\n",
        "                return (i, j)  # row, col\n",
        "\n",
        "    return None\n",
        "\n",
        "def solve(bo):\n",
        "    # solve the sudoku by checking for the valid moves\n",
        "    find = find_empty(bo)\n",
        "    if not find:\n",
        "        return True\n",
        "    else:\n",
        "        row, col = find\n",
        "\n",
        "    for i in range(1,10):\n",
        "        if valid(bo, i, (row, col)):\n",
        "            bo[row][col] = i\n",
        "\n",
        "            if solve(bo):\n",
        "                return True\n",
        "\n",
        "            bo[row][col] = 0\n",
        "\n",
        "    return False\n",
        "\n",
        "def valid(bo, num, pos):\n",
        "    # Checks for the valid moves.\n",
        "\n",
        "    # Check row\n",
        "    for i in range(len(bo[0])):\n",
        "        if bo[pos[0]][i] == num and pos[1] != i:\n",
        "            return False\n",
        "\n",
        "    # Check column\n",
        "    for i in range(len(bo)):\n",
        "        if bo[i][pos[1]] == num and pos[0] != i:\n",
        "            return False\n",
        "\n",
        "    # Check box\n",
        "    box_x = pos[1] // 3\n",
        "    box_y = pos[0] // 3\n",
        "\n",
        "    for i in range(box_y*3, box_y*3 + 3):\n",
        "        for j in range(box_x * 3, box_x*3 + 3):\n",
        "            if bo[i][j] == num and (i,j) != pos:\n",
        "                return False\n",
        "\n",
        "    return True\n",
        "  \n",
        "print_board(board)\n"
      ],
      "execution_count": 0,
      "outputs": [
        {
          "output_type": "stream",
          "text": [
            "5 . . | . . . | . . .\n",
            "8 6 1 | 2 . 3 | . . .\n",
            ". 2 . | . 5 . | . . .\n",
            "- - - + - - - + - - -\n",
            "6 . 9 | 8 . . | . . .\n",
            ". 7 . | 4 . 5 | . 8 .\n",
            ". . . | . . 6 | 1 . 5\n",
            "- - - + - - - + - - -\n",
            ". . . | . 7 . | . 3 .\n",
            ". . . | 6 . 1 | 5 4 2\n",
            ". . . | . . . | . . 8\n"
          ],
          "name": "stdout"
        }
      ]
    },
    {
      "cell_type": "code",
      "metadata": {
        "id": "MYjO2wKCeAQT",
        "colab_type": "code",
        "outputId": "fa0f2433-1e4b-4b4d-cf8d-2a531e5ffaf6",
        "colab": {
          "base_uri": "https://localhost:8080/",
          "height": 235
        }
      },
      "source": [
        "%%time\n",
        "solve(board)\n",
        "print_board(board)"
      ],
      "execution_count": 0,
      "outputs": [
        {
          "output_type": "stream",
          "text": [
            "5 9 4 | 7 6 8 | 2 1 3\n",
            "8 6 1 | 2 9 3 | 4 5 7\n",
            "7 2 3 | 1 5 4 | 8 9 6\n",
            "- - - + - - - + - - -\n",
            "6 5 9 | 8 1 7 | 3 2 4\n",
            "1 7 2 | 4 3 5 | 6 8 9\n",
            "3 4 8 | 9 2 6 | 1 7 5\n",
            "- - - + - - - + - - -\n",
            "4 8 6 | 5 7 2 | 9 3 1\n",
            "9 3 7 | 6 8 1 | 5 4 2\n",
            "2 1 5 | 3 4 9 | 7 6 8\n",
            "CPU times: user 199 ms, sys: 3.18 ms, total: 202 ms\n",
            "Wall time: 202 ms\n"
          ],
          "name": "stdout"
        }
      ]
    },
    {
      "cell_type": "markdown",
      "metadata": {
        "id": "BGeoHkm_dsi0",
        "colab_type": "text"
      },
      "source": [
        "## Task 3 : Smart Backtracking Algorithm (40 pts)¶\n",
        "Incorporate at least one strategy of minimum remaining values (MRV), least constraining value (LCV), and forward checking in your backtracking algorithm."
      ]
    },
    {
      "cell_type": "code",
      "metadata": {
        "id": "wcHNmxKaqtdH",
        "colab_type": "code",
        "outputId": "7cb83e22-a61b-4c4c-cac5-097c69c9403d",
        "colab": {
          "base_uri": "https://localhost:8080/",
          "height": 54
        }
      },
      "source": [
        "data = \"/content/drive/My Drive/courses/AI/A3/evil.txt\"\n",
        "def getPuzzle(filename):\n",
        "    # Read the board again.\n",
        "    with open(filename, 'r') as f:\n",
        "        lines = f.read().split('\\n')\n",
        "    board = []\n",
        "    for line in lines:\n",
        "        if len(line) != 0:\n",
        "            line= [int(x) if x.isdigit() else x for z in line for x in str(z)]\n",
        "            board.append(line)\n",
        "    board = board[1:][:]\n",
        "    print(board)\n",
        "    return board\n",
        "board = getPuzzle(data)"
      ],
      "execution_count": 0,
      "outputs": [
        {
          "output_type": "stream",
          "text": [
            "[[5, 0, 0, 0, 0, 0, 0, 0, 0], [8, 6, 1, 2, 0, 3, 0, 0, 0], [0, 2, 0, 0, 5, 0, 0, 0, 0], [6, 0, 9, 8, 0, 0, 0, 0, 0], [0, 7, 0, 4, 0, 5, 0, 8, 0], [0, 0, 0, 0, 0, 6, 1, 0, 5], [0, 0, 0, 0, 7, 0, 0, 3, 0], [0, 0, 0, 6, 0, 1, 5, 4, 2], [0, 0, 0, 0, 0, 0, 0, 0, 8]]\n"
          ],
          "name": "stdout"
        }
      ]
    },
    {
      "cell_type": "markdown",
      "metadata": {
        "id": "c6-lqGVhpjpM",
        "colab_type": "text"
      },
      "source": [
        "## Using **Forward Checking** in the backtracking algorithm."
      ]
    },
    {
      "cell_type": "code",
      "metadata": {
        "id": "DZjKJdWZdqqk",
        "colab_type": "code",
        "outputId": "caac22fd-9627-47ec-f067-a99388634a0f",
        "colab": {
          "base_uri": "https://localhost:8080/",
          "height": 202
        }
      },
      "source": [
        "def print_board(board):\n",
        "    # print the sudoku board. \n",
        "    if not board:\n",
        "        output(\"No solution\")\n",
        "        return\n",
        "    for i in range(N):\n",
        "        for j in range(N):\n",
        "            cell = board[i][j]\n",
        "            if cell == 0 or isinstance(cell, set):\n",
        "                output('.')\n",
        "            else:\n",
        "                output(cell)\n",
        "            if (j + 1) % 3 == 0 and j < 8:\n",
        "                output(' |')\n",
        "\n",
        "            if j != 8:\n",
        "                output(' ')\n",
        "        output('\\n')\n",
        "        if (i + 1) % 3 == 0 and i < 8:\n",
        "            output(\"- - - + - - - + - - -\\n\")\n",
        "\n",
        "def read(board):\n",
        "    # Read board into state (replace 0 with set of possible values)\n",
        "\n",
        "    state = deepcopy(board)\n",
        "    for i in range(N):\n",
        "        for j in range(N):\n",
        "            cell = state[i][j]\n",
        "            if cell == 0:\n",
        "                state[i][j] = set(range(1,10))\n",
        "\n",
        "    return state\n",
        "\n",
        "state = read(board)\n",
        "\n",
        "\n",
        "def done(state):\n",
        "    # Are we done? \n",
        "\n",
        "    for row in state:\n",
        "        for cell in row:\n",
        "            if isinstance(cell, set):\n",
        "                return False\n",
        "    return True\n",
        "\n",
        "\n",
        "def propagate_step(state):\n",
        "    # Propagate one step\n",
        "\n",
        "    new_units = False\n",
        "\n",
        "    for i in range(N):\n",
        "        row = state[i]\n",
        "        values = set([x for x in row if not isinstance(x, set)])\n",
        "        for j in range(N):\n",
        "            if isinstance(state[i][j], set):\n",
        "                state[i][j] -= values\n",
        "                if len(state[i][j]) == 1:\n",
        "                    state[i][j] = state[i][j].pop()\n",
        "                    new_units = True\n",
        "                elif len(state[i][j]) == 0:\n",
        "                    return False, None\n",
        "\n",
        "    for j in range(N):\n",
        "        column = [state[x][j] for x in range(N)]\n",
        "        values = set([x for x in column if not isinstance(x, set)])\n",
        "        for i in range(N):\n",
        "            if isinstance(state[i][j], set):\n",
        "                state[i][j] -= values\n",
        "                if len(state[i][j]) == 1:\n",
        "                    state[i][j] = state[i][j].pop()\n",
        "                    new_units = True\n",
        "                elif len(state[i][j]) == 0:\n",
        "                    return False, None\n",
        "\n",
        "    for x in range(3):\n",
        "        for y in range(3):\n",
        "            values = set()\n",
        "            for i in range(3*x, 3*x+3):\n",
        "                for j in range(3*y, 3*y+3):\n",
        "                    cell = state[i][j]\n",
        "                    if not isinstance(cell, set):\n",
        "                        values.add(cell)\n",
        "            for i in range(3*x, 3*x+3):\n",
        "                for j in range(3*y, 3*y+3):\n",
        "                    if isinstance(state[i][j], set):\n",
        "                        state[i][j] -= values\n",
        "                        if len(state[i][j]) == 1:\n",
        "                            state[i][j] = state[i][j].pop()\n",
        "                            new_units = True\n",
        "                        elif len(state[i][j]) == 0:\n",
        "                            return False, None\n",
        "\n",
        "    return True, new_units\n",
        "\n",
        "def propagate(state):\n",
        "    # Propagate until we reach a fixpoint\n",
        "    while True:\n",
        "        solvable, new_unit = propagate_step(state)\n",
        "        if not solvable:\n",
        "            return False\n",
        "        if not new_unit:\n",
        "            return True\n",
        "\n",
        "\n",
        "def solve(state):\n",
        "    # Solve sudoku \n",
        "\n",
        "    solvable = propagate(state)\n",
        "\n",
        "    if not solvable:\n",
        "        return None\n",
        "\n",
        "    if done(state):\n",
        "        return state\n",
        "\n",
        "    for i in range(N):\n",
        "        for j in range(N):\n",
        "            cell = state[i][j]\n",
        "            if isinstance(cell, set):\n",
        "                for value in cell:\n",
        "                    new_state = deepcopy(state)\n",
        "                    new_state[i][j] = value\n",
        "                    solved = solve(new_state)\n",
        "                    if solved is not None:\n",
        "                        return solved\n",
        "                return None\n",
        "\n",
        "print_board(board)"
      ],
      "execution_count": 0,
      "outputs": [
        {
          "output_type": "stream",
          "text": [
            "5 . . | . . . | . . .\n",
            "8 6 1 | 2 . 3 | . . .\n",
            ". 2 . | . 5 . | . . .\n",
            "- - - + - - - + - - -\n",
            "6 . 9 | 8 . . | . . .\n",
            ". 7 . | 4 . 5 | . 8 .\n",
            ". . . | . . 6 | 1 . 5\n",
            "- - - + - - - + - - -\n",
            ". . . | . 7 . | . 3 .\n",
            ". . . | 6 . 1 | 5 4 2\n",
            ". . . | . . . | . . 8\n"
          ],
          "name": "stdout"
        }
      ]
    },
    {
      "cell_type": "code",
      "metadata": {
        "id": "3EoCVgBaozd6",
        "colab_type": "code",
        "outputId": "5100646a-ef35-4f6f-c31b-ddc24f4f2c87",
        "colab": {
          "base_uri": "https://localhost:8080/",
          "height": 235
        }
      },
      "source": [
        "%%time\n",
        "print_board(solve(state))"
      ],
      "execution_count": 0,
      "outputs": [
        {
          "output_type": "stream",
          "text": [
            "5 3 4 | 7 6 8 | 2 9 1\n",
            "8 6 1 | 2 9 3 | 4 5 7\n",
            "9 2 7 | 1 5 4 | 8 6 3\n",
            "- - - + - - - + - - -\n",
            "6 5 9 | 8 3 7 | 7 2 4\n",
            "3 7 2 | 4 1 5 | 6 8 6\n",
            "3 4 8 | 9 2 6 | 1 2 5\n",
            "- - - + - - - + - - -\n",
            "4 8 6 | 5 7 2 | 9 3 9\n",
            "7 9 3 | 6 8 1 | 5 4 2\n",
            "2 1 5 | 3 4 9 | 6 7 8\n",
            "CPU times: user 37.1 ms, sys: 3.7 ms, total: 40.8 ms\n",
            "Wall time: 41 ms\n"
          ],
          "name": "stdout"
        }
      ]
    },
    {
      "cell_type": "markdown",
      "metadata": {
        "id": "XWqcyAVxufcd",
        "colab_type": "text"
      },
      "source": [
        "\n",
        "## Task 4 : Analysis and Report (25 pts)\n",
        "-  Task 1 : Naive backtracking\n",
        "  - Implemented Naive backtracking and was able to solve every possible puzzle level.\n",
        "-  Task 2 : Smart backtracking \n",
        "  - Implemented Forward Checking and was able to solve every possible level.\n",
        "\n",
        "\n",
        "|  Levels | Back Tracking Performance |Forward Checking Performance |\n",
        "| --------| ----------- |-------|\n",
        "| Given | 13.8 ms | 11.6 ms\n",
        "| Easy | 18 ms |  6.35 ms |\n",
        "| Medium | 121 ms | 18.4 ms |\n",
        "| Hard | 18.3 ms | 9.41 ms |\n",
        "| Evil | 202 ms | 40.8 ms |\n",
        "\n",
        "**Conclusion:**\n",
        "> Based on the above result we can say that Forward checking outperform the Naive backtracking "
      ]
    },
    {
      "cell_type": "code",
      "metadata": {
        "id": "5U3-OQDQrAkG",
        "colab_type": "code",
        "colab": {}
      },
      "source": [
        ""
      ],
      "execution_count": 0,
      "outputs": []
    }
  ]
}