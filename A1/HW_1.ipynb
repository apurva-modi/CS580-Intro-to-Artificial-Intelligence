{
  "nbformat": 4,
  "nbformat_minor": 0,
  "metadata": {
    "colab": {
      "name": "HW#1.ipynb",
      "provenance": [],
      "collapsed_sections": []
    },
    "kernelspec": {
      "name": "python3",
      "display_name": "Python 3"
    }
  },
  "cells": [
    {
      "cell_type": "code",
      "metadata": {
        "id": "5kSjX3_B7hX9",
        "colab_type": "code",
        "colab": {
          "base_uri": "https://localhost:8080/",
          "height": 34
        },
        "outputId": "151c28c2-9afd-4bee-ea79-2b96380474e7"
      },
      "source": [
        "from google.colab import drive\n",
        "drive.mount('/content/drive')"
      ],
      "execution_count": 1,
      "outputs": [
        {
          "output_type": "stream",
          "text": [
            "Drive already mounted at /content/drive; to attempt to forcibly remount, call drive.mount(\"/content/drive\", force_remount=True).\n"
          ],
          "name": "stdout"
        }
      ]
    },
    {
      "cell_type": "code",
      "metadata": {
        "id": "D1yWRjxNZ2XJ",
        "colab_type": "code",
        "colab": {}
      },
      "source": [
        "class State:\n",
        "    def __init__(self, state, parent, move, depth, cost, key):\n",
        "        self.state = state\n",
        "        self.parent = parent\n",
        "        self.move = move\n",
        "        self.depth = depth\n",
        "        self.cost = cost\n",
        "        self.key = key\n",
        "        if self.state:\n",
        "            self.map = ''.join(str(e) for e in self.state)\n",
        "    def __eq__(self, other):\n",
        "        return self.map == other.map\n",
        "    def __lt__(self, other):\n",
        "        return self.map < other.map"
      ],
      "execution_count": 0,
      "outputs": []
    },
    {
      "cell_type": "code",
      "metadata": {
        "id": "P03wI_iWZ-Q5",
        "colab_type": "code",
        "colab": {}
      },
      "source": [
        "from math import sqrt\n",
        "from collections import deque\n",
        "from heapq import heappush, heappop\n",
        "import time\n",
        "# Stopping Condition and the goal state\n",
        "goalState = [1,2,3,4,5,6,7,8,9,10,11,12,13,14,15,16,17,18,19,20,21,22,23,24,0]\n",
        "goalNode = State\n",
        "initialState = []   \n",
        "puzzleLen = 0       \n",
        "puzzleSide = 0      \n",
        "nodesExpanded = 0   \n",
        "maxDepthReached = 0 \n",
        "maxFringeSize = 0   \n",
        "moves = []          \n"
      ],
      "execution_count": 0,
      "outputs": []
    },
    {
      "cell_type": "markdown",
      "metadata": {
        "id": "xxED1z-o9D19",
        "colab_type": "text"
      },
      "source": [
        "## Breadth first search (BFS)"
      ]
    },
    {
      "cell_type": "code",
      "metadata": {
        "id": "3aJy20UiadLX",
        "colab_type": "code",
        "colab": {}
      },
      "source": [
        "def bfs(startState):\n",
        "    global goalNode, maxFringeSize, maxDepthReached\n",
        "    visited, queue = set(), deque([State(startState, None, None, 0, 0, 0)])\n",
        "    while queue:                            \n",
        "        node = queue.popleft()              \n",
        "        visited.add(node.map)               \n",
        "        if node.state == goalState:\n",
        "            goalNode = node\n",
        "            return True, queue\n",
        "        childNodes = expand(node)\n",
        "        for child in childNodes:            \n",
        "            if child.map not in visited:    \n",
        "                queue.append(child)         \n",
        "                visited.add(child.map)      \n",
        "                if child.depth > maxDepthReached:\n",
        "                    maxDepthReached += 1\n",
        "        if len(queue) > maxFringeSize:\n",
        "            maxFringeSize = len(queue)\n",
        "    return False, None    "
      ],
      "execution_count": 0,
      "outputs": []
    },
    {
      "cell_type": "markdown",
      "metadata": {
        "id": "Q1uWqLnM-67l",
        "colab_type": "text"
      },
      "source": [
        "## Depth first Search (DFS)"
      ]
    },
    {
      "cell_type": "code",
      "metadata": {
        "id": "J8uI2ZAVajLn",
        "colab_type": "code",
        "colab": {}
      },
      "source": [
        "def dfs(startState):\n",
        "    global goalNode, maxFringeSize, maxDepthReached\n",
        "    visited, stack = set(), list([State(startState, None, None, 0, 0, 0)])\n",
        "    while stack:                                \n",
        "        node = stack.pop()                      \n",
        "        visited.add(node.map)                  \n",
        "        if node.state == goalState:\n",
        "            goalNode = node\n",
        "            return True, stack\n",
        "        neighbors = reversed(expand(node))     \n",
        "        for neighbor in neighbors:              \n",
        "            if neighbor.map not in visited:     \n",
        "                stack.append(neighbor)          \n",
        "                visited.add(neighbor.map)       \n",
        "                if neighbor.depth > maxDepthReached:\n",
        "                    maxDepthReached += 1\n",
        "        if len(stack) > maxFringeSize:\n",
        "            maxFringeSize = len(stack)      \n",
        "    return False, None"
      ],
      "execution_count": 0,
      "outputs": []
    },
    {
      "cell_type": "markdown",
      "metadata": {
        "id": "wMOVsy9G_Ein",
        "colab_type": "text"
      },
      "source": [
        "## Greddy Search"
      ]
    },
    {
      "cell_type": "code",
      "metadata": {
        "id": "I_-Y7FNmalQ3",
        "colab_type": "code",
        "colab": {}
      },
      "source": [
        "def greedy(startState, heuristicFunc):\n",
        "    global goalNode, maxFringeSize, maxDepthReached\n",
        "    visited, pQueue = set(), list()\n",
        "    key = heuristicFunc(startState)\n",
        "    root = State(startState, None, None, 0, 0, key)\n",
        "    entry = (key, 0, root)\n",
        "    heappush(pQueue, entry)\n",
        "    while pQueue:\n",
        "        node = heappop(pQueue)\n",
        "        #print(node)\n",
        "        visited.add(node[2].map)\n",
        "        if node[2].state == goalState:\n",
        "            goalNode = node[2]\n",
        "            return True, pQueue\n",
        "        neighbors = expand(node[2])\n",
        "        for neighbor in neighbors:\n",
        "            neighbor.key = heuristicFunc(neighbor.state)\n",
        "            entry = (neighbor.key, neighbor.move, neighbor)\n",
        "            if neighbor.map not in visited:\n",
        "                heappush(pQueue, entry)\n",
        "                visited.add(neighbor.map)\n",
        "                if neighbor.depth > maxDepthReached:\n",
        "                    maxDepthReached += 1                    \n",
        "        if len(pQueue) > maxFringeSize:\n",
        "            maxFringeSize = len(pQueue)   \n",
        "    return False, None"
      ],
      "execution_count": 0,
      "outputs": []
    },
    {
      "cell_type": "markdown",
      "metadata": {
        "id": "Sx2sPmz1_JOW",
        "colab_type": "text"
      },
      "source": [
        "## A* Search "
      ]
    },
    {
      "cell_type": "code",
      "metadata": {
        "id": "3Q7T3bXkamzY",
        "colab_type": "code",
        "colab": {}
      },
      "source": [
        "def ast(startState, heuristicFunc):\n",
        "    global goalNode, maxFringeSize, maxDepthReached\n",
        "    visited, pQueue = set(), list()\n",
        "    key = heuristicFunc(startState)\n",
        "    root = State(startState, None, None, 0, 0, key)\n",
        "    entry = (key, 0, root)\n",
        "    heappush(pQueue, entry)\n",
        "    while pQueue:\n",
        "        node = heappop(pQueue)\n",
        "        visited.add(node[2].map)\n",
        "        if node[2].state == goalState:\n",
        "            goalNode = node[2]\n",
        "            return True, pQueue\n",
        "        neighbors = expand(node[2])\n",
        "        for neighbor in neighbors:\n",
        "            neighbor.key = neighbor.cost + heuristicFunc(neighbor.state)\n",
        "            entry = (neighbor.key, neighbor.move, neighbor)\n",
        "            if neighbor.map not in visited:\n",
        "                heappush(pQueue, entry)\n",
        "                visited.add(neighbor.map)\n",
        "                if neighbor.depth > maxDepthReached:\n",
        "                    maxDepthReached += 1                    \n",
        "        if len(pQueue) > maxFringeSize:\n",
        "            maxFringeSize = len(pQueue)\n",
        "    return False, None"
      ],
      "execution_count": 0,
      "outputs": []
    },
    {
      "cell_type": "markdown",
      "metadata": {
        "id": "eVO9HheK92ys",
        "colab_type": "text"
      },
      "source": [
        "## Heuristic Function 1 : number of misplaced tiles"
      ]
    },
    {
      "cell_type": "code",
      "metadata": {
        "id": "rD6nhngKao4Q",
        "colab_type": "code",
        "colab": {}
      },
      "source": [
        "def h1(state):\n",
        "    count = 0\n",
        "    for i in range(0,puzzleLen):\n",
        "        if not (state.index(i) == goalState.index(i)) : \n",
        "            count+=1\n",
        "    return count "
      ],
      "execution_count": 0,
      "outputs": []
    },
    {
      "cell_type": "markdown",
      "metadata": {
        "id": "QuPxF6hQ992m",
        "colab_type": "text"
      },
      "source": [
        "## Heuristic Function 2 : sum of the distances of every tile to its goal position."
      ]
    },
    {
      "cell_type": "code",
      "metadata": {
        "id": "lCk8xqpZaq-P",
        "colab_type": "code",
        "colab": {}
      },
      "source": [
        "def h2(state): \n",
        "    return sum(abs(p%puzzleSide - g%puzzleSide) + abs(p//puzzleSide - g//puzzleSide)\n",
        "               for p,g in ((state.index(i),goalState.index(i)) \n",
        "               for i in range(1, puzzleLen))) \n"
      ],
      "execution_count": 0,
      "outputs": []
    },
    {
      "cell_type": "code",
      "metadata": {
        "id": "cyjs2PAOaseI",
        "colab_type": "code",
        "colab": {}
      },
      "source": [
        "def expand(node):\n",
        "  # creates valid child nodes\n",
        "    global nodesExpanded\n",
        "    nodesExpanded += 1\n",
        "    childNodes = []\n",
        "    childNodes.append(State(validMove(node.state,'DOWN'),node,'DOWN',node.depth + 1, node.cost + 1, 0)) \n",
        "    childNodes.append(State(validMove(node.state,'LEFT'),node,'LOW',node.depth + 1, node.cost + 1, 0)) \n",
        "    childNodes.append(State(validMove(node.state,'RIGHT'),node,'RIGHT',node.depth + 1, node.cost + 1, 0))\n",
        "    childNodes.append(State(validMove(node.state,'UP'),node,'UP',node.depth + 1, node.cost + 1, 0))\n",
        "    nodes = [child for child in childNodes if child.state]\n",
        "    return nodes"
      ],
      "execution_count": 0,
      "outputs": []
    },
    {
      "cell_type": "code",
      "metadata": {
        "id": "dUXgq8taaukQ",
        "colab_type": "code",
        "colab": {}
      },
      "source": [
        "def validMove(state, position):\n",
        "    # Verify next move\n",
        "    newState = state[:]\n",
        "    index = newState.index(0) \n",
        "    if position == 'UP': \n",
        "        if index not in range(0, puzzleSide):           \n",
        "            temp = newState[index - puzzleSide]\n",
        "            newState[index - puzzleSide] = newState[index]\n",
        "            newState[index] = temp\n",
        "            return newState\n",
        "        else:\n",
        "            return None\n",
        "    if position == 'DOWN':        \n",
        "        if index not in range(puzzleLen - puzzleSide, puzzleLen):\n",
        "            temp = newState[index + puzzleSide]\n",
        "            newState[index + puzzleSide] = newState[index]\n",
        "            newState[index] = temp\n",
        "            return newState\n",
        "        else:\n",
        "            return None\n",
        "    if position == 'LEFT': \n",
        "        if index not in range(0, puzzleLen, puzzleSide):\n",
        "            temp = newState[index - 1]\n",
        "            newState[index - 1] = newState[index]\n",
        "            newState[index] = temp\n",
        "            return newState\n",
        "        else:\n",
        "            return None\n",
        "    if position == 'RIGHT': \n",
        "        if index not in range(puzzleSide - 1, puzzleLen, puzzleSide):\n",
        "            temp = newState[index + 1]\n",
        "            newState[index + 1] = newState[index]\n",
        "            newState[index] = temp\n",
        "            return newState\n",
        "        else:\n",
        "            return None"
      ],
      "execution_count": 0,
      "outputs": []
    },
    {
      "cell_type": "code",
      "metadata": {
        "id": "-rKrt-asawwQ",
        "colab_type": "code",
        "colab": {}
      },
      "source": [
        "def get(dataList):\n",
        "    global puzzleLen, puzzleSide\n",
        "    \n",
        "    data = dataList.split(',') \n",
        "    for element in data:\n",
        "        initialState.append(int(element))\n",
        "    puzzleLen = len(initialState)                  \n",
        "    puzzleSide = int(sqrt(puzzleLen))       \n"
      ],
      "execution_count": 0,
      "outputs": []
    },
    {
      "cell_type": "code",
      "metadata": {
        "id": "N1F9Ko5Day9n",
        "colab_type": "code",
        "colab": {}
      },
      "source": [
        "def backtrack():\n",
        "    currentNode = goalNode\n",
        "    while initialState != currentNode.state : \n",
        "        moves.insert(0, currentNode.move)\n",
        "        currentNode = currentNode.parent\n",
        "    return moves\n"
      ],
      "execution_count": 0,
      "outputs": []
    },
    {
      "cell_type": "code",
      "metadata": {
        "id": "jZbLIL_9a1Rw",
        "colab_type": "code",
        "colab": {}
      },
      "source": [
        "def output(fringe, time, testNum):\n",
        "    if fringe:\n",
        "        global moves\n",
        "        moves = backtrack()\n",
        "        print(\"\\nProblem State : \"+str(initialState))\n",
        "        print(\"\\npath_to_goal : \" + str(moves))\n",
        "        print(\"\\ncost_of_path(Moves): \" + str(len(moves)))\n",
        "        print(\"\\nnodes_expanded: \" + str(nodesExpanded))\n",
        "        print(\"\\nfringe_size: \" + str(len(fringe)))\n",
        "        print(\"\\nmax_fringe_size: \" + str(maxFringeSize))\n",
        "        print(\"\\nsearch_depth: \" + str(goalNode.depth))\n",
        "        print(\"\\nmax_search_depth: \" + str(maxDepthReached))\n",
        "        print(\"\\nrunning_time: \" + format(time, '.8f'))\n",
        "    else:\n",
        "        print(\"<-- # UNSOLVABLE # -->\")\n",
        "        print(\"\\nnodes_expanded: \" + str(nodesExpanded))\n",
        "        print(\"\\nmax_fringe_size: \" + str(maxFringeSize))\n",
        "        print(\"\\nmax_search_depth: \" + str(maxDepthReached))\n",
        "        print(\"\\nrunning_time: \" + format(time, '.8f'))\n",
        "      "
      ],
      "execution_count": 0,
      "outputs": []
    },
    {
      "cell_type": "code",
      "metadata": {
        "id": "RYoKrwHwa_hQ",
        "colab_type": "code",
        "colab": {}
      },
      "source": [
        "def main():\n",
        "    algorithm = input('--> Please select the algorithm \\\n",
        "                      \\n1. bfs : Breadth First Search \\\n",
        "                      \\n2. dfs : Depth First Search \\\n",
        "                      \\n3. ast : A Star Search\\\n",
        "                      \\n4. greedy : Greedy Search\\\n",
        "                      \\n enter the selection : ')\n",
        "    if(algorithm == 'greedy' or algorithm == 'ast'):\n",
        "        heuristic = input('-- Please select the Heuristic Function\\\n",
        "                      \\n h1 : number of misplaced tiles\\\n",
        "                      \\n h2 : sum of the distances of every tile to its goal position.\\\n",
        "                      \\n-- Enter your choice : ')\n",
        "    \n",
        "        heuristicFunc = heuristic_map[heuristic]\n",
        "    else:\n",
        "        heuristicFunc = None\n",
        "    function_map = {'bfs': bfs, 'dfs': dfs,'greedy' : greedy,'ast' : ast}\n",
        "    heuristic_map = {'h1' : h1,'h2' : h2}\n",
        "    data = input('--> Enter puzzle elements : ')    \n",
        "    get(data)\n",
        "    function = function_map[algorithm]  \n",
        "    start = time.time()       \n",
        "    search, fringe = function(initialState, heuristicFunc)  \n",
        "    stop = time.time()\n",
        "    if not search : \n",
        "        output(fringe, stop-start, 'No_Solution')\n",
        "    else : \n",
        "        output(fringe, stop-start, 'h2')        "
      ],
      "execution_count": 0,
      "outputs": []
    },
    {
      "cell_type": "code",
      "metadata": {
        "id": "zPXUphRJbD5f",
        "colab_type": "code",
        "colab": {}
      },
      "source": [
        "if __name__ == '__main__':\n",
        "    main()"
      ],
      "execution_count": 0,
      "outputs": []
    }
  ]
}